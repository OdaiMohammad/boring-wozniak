{
  "cells": [
    {
      "cell_type": "code",
      "source": [
        "!pip install pyrosm"
      ],
      "metadata": {
        "colab": {
          "base_uri": "https://localhost:8080/"
        },
        "id": "eVaedWZARgrD",
        "outputId": "04af1662-97c8-4d77-b323-ffee621303dc"
      },
      "id": "eVaedWZARgrD",
      "execution_count": 2,
      "outputs": [
        {
          "output_type": "stream",
          "name": "stdout",
          "text": [
            "Looking in indexes: https://pypi.org/simple, https://us-python.pkg.dev/colab-wheels/public/simple/\n",
            "Collecting pyrosm\n",
            "  Downloading pyrosm-0.6.1.tar.gz (2.1 MB)\n",
            "\u001b[K     |████████████████████████████████| 2.1 MB 6.5 MB/s \n",
            "\u001b[?25h  Installing build dependencies ... \u001b[?25l\u001b[?25hdone\n",
            "  Getting requirements to build wheel ... \u001b[?25l\u001b[?25hdone\n",
            "    Preparing wheel metadata ... \u001b[?25l\u001b[?25hdone\n",
            "Collecting python-rapidjson\n",
            "  Downloading python_rapidjson-1.9-cp37-cp37m-manylinux_2_17_x86_64.manylinux2014_x86_64.whl (1.6 MB)\n",
            "\u001b[K     |████████████████████████████████| 1.6 MB 47.2 MB/s \n",
            "\u001b[?25hCollecting pygeos\n",
            "  Downloading pygeos-0.13-cp37-cp37m-manylinux_2_17_x86_64.manylinux2014_x86_64.whl (2.1 MB)\n",
            "\u001b[K     |████████████████████████████████| 2.1 MB 47.4 MB/s \n",
            "\u001b[?25hCollecting pyrobuf\n",
            "  Using cached pyrobuf-0.9.3-cp37-cp37m-linux_x86_64.whl\n",
            "Collecting cykhash\n",
            "  Using cached cykhash-2.0.0-cp37-cp37m-linux_x86_64.whl\n",
            "Requirement already satisfied: setuptools>=18.0 in /usr/local/lib/python3.7/dist-packages (from pyrosm) (57.4.0)\n",
            "Collecting geopandas>=0.8.0\n",
            "  Downloading geopandas-0.10.2-py2.py3-none-any.whl (1.0 MB)\n",
            "\u001b[K     |████████████████████████████████| 1.0 MB 58.5 MB/s \n",
            "\u001b[?25hRequirement already satisfied: pandas>=0.25.0 in /usr/local/lib/python3.7/dist-packages (from geopandas>=0.8.0->pyrosm) (1.3.5)\n",
            "Collecting pyproj>=2.2.0\n",
            "  Downloading pyproj-3.2.1-cp37-cp37m-manylinux2010_x86_64.whl (6.3 MB)\n",
            "\u001b[K     |████████████████████████████████| 6.3 MB 34.7 MB/s \n",
            "\u001b[?25hRequirement already satisfied: shapely>=1.6 in /usr/local/lib/python3.7/dist-packages (from geopandas>=0.8.0->pyrosm) (1.8.5.post1)\n",
            "Collecting fiona>=1.8\n",
            "  Downloading Fiona-1.8.22-cp37-cp37m-manylinux2014_x86_64.whl (16.7 MB)\n",
            "\u001b[K     |████████████████████████████████| 16.7 MB 47.4 MB/s \n",
            "\u001b[?25hRequirement already satisfied: attrs>=17 in /usr/local/lib/python3.7/dist-packages (from fiona>=1.8->geopandas>=0.8.0->pyrosm) (22.1.0)\n",
            "Collecting click-plugins>=1.0\n",
            "  Downloading click_plugins-1.1.1-py2.py3-none-any.whl (7.5 kB)\n",
            "Collecting cligj>=0.5\n",
            "  Downloading cligj-0.7.2-py3-none-any.whl (7.1 kB)\n",
            "Collecting munch\n",
            "  Downloading munch-2.5.0-py2.py3-none-any.whl (10 kB)\n",
            "Requirement already satisfied: six>=1.7 in /usr/local/lib/python3.7/dist-packages (from fiona>=1.8->geopandas>=0.8.0->pyrosm) (1.15.0)\n",
            "Requirement already satisfied: click>=4.0 in /usr/local/lib/python3.7/dist-packages (from fiona>=1.8->geopandas>=0.8.0->pyrosm) (7.1.2)\n",
            "Requirement already satisfied: certifi in /usr/local/lib/python3.7/dist-packages (from fiona>=1.8->geopandas>=0.8.0->pyrosm) (2022.9.24)\n",
            "Requirement already satisfied: python-dateutil>=2.7.3 in /usr/local/lib/python3.7/dist-packages (from pandas>=0.25.0->geopandas>=0.8.0->pyrosm) (2.8.2)\n",
            "Requirement already satisfied: pytz>=2017.3 in /usr/local/lib/python3.7/dist-packages (from pandas>=0.25.0->geopandas>=0.8.0->pyrosm) (2022.6)\n",
            "Requirement already satisfied: numpy>=1.17.3 in /usr/local/lib/python3.7/dist-packages (from pandas>=0.25.0->geopandas>=0.8.0->pyrosm) (1.21.6)\n",
            "Requirement already satisfied: cython>=0.23 in /usr/local/lib/python3.7/dist-packages (from pyrobuf->pyrosm) (0.29.32)\n",
            "Requirement already satisfied: jinja2>=2.8 in /usr/local/lib/python3.7/dist-packages (from pyrobuf->pyrosm) (2.11.3)\n",
            "Requirement already satisfied: MarkupSafe>=0.23 in /usr/local/lib/python3.7/dist-packages (from jinja2>=2.8->pyrobuf->pyrosm) (2.0.1)\n",
            "Building wheels for collected packages: pyrosm\n",
            "  Building wheel for pyrosm (PEP 517) ... \u001b[?25l\u001b[?25hdone\n",
            "  Created wheel for pyrosm: filename=pyrosm-0.6.1-cp37-cp37m-linux_x86_64.whl size=5431194 sha256=4aad89a3fc3ac0e8051b93075d91892af91042677f068db6ed1e655a60f47725\n",
            "  Stored in directory: /root/.cache/pip/wheels/e8/9e/d8/e424ffc5eaa71ccb122bb79d92ef75802c49b9b0a9366d6da4\n",
            "Successfully built pyrosm\n",
            "Installing collected packages: munch, cligj, click-plugins, pyproj, fiona, python-rapidjson, pyrobuf, pygeos, geopandas, cykhash, pyrosm\n",
            "Successfully installed click-plugins-1.1.1 cligj-0.7.2 cykhash-2.0.0 fiona-1.8.22 geopandas-0.10.2 munch-2.5.0 pygeos-0.13 pyproj-3.2.1 pyrobuf-0.9.3 pyrosm-0.6.1 python-rapidjson-1.9\n"
          ]
        }
      ]
    },
    {
      "cell_type": "code",
      "source": [
        "!pip install rdflib"
      ],
      "metadata": {
        "colab": {
          "base_uri": "https://localhost:8080/"
        },
        "id": "w6Efb7cZSTUu",
        "outputId": "50b96d8d-d0ea-446e-8069-42a0bc98e149"
      },
      "id": "w6Efb7cZSTUu",
      "execution_count": 4,
      "outputs": [
        {
          "output_type": "stream",
          "name": "stdout",
          "text": [
            "Looking in indexes: https://pypi.org/simple, https://us-python.pkg.dev/colab-wheels/public/simple/\n",
            "Collecting rdflib\n",
            "  Downloading rdflib-6.2.0-py3-none-any.whl (500 kB)\n",
            "\u001b[K     |████████████████████████████████| 500 kB 7.8 MB/s \n",
            "\u001b[?25hRequirement already satisfied: pyparsing in /usr/local/lib/python3.7/dist-packages (from rdflib) (3.0.9)\n",
            "Requirement already satisfied: importlib-metadata in /usr/local/lib/python3.7/dist-packages (from rdflib) (4.13.0)\n",
            "Requirement already satisfied: setuptools in /usr/local/lib/python3.7/dist-packages (from rdflib) (57.4.0)\n",
            "Collecting isodate\n",
            "  Downloading isodate-0.6.1-py2.py3-none-any.whl (41 kB)\n",
            "\u001b[K     |████████████████████████████████| 41 kB 648 kB/s \n",
            "\u001b[?25hRequirement already satisfied: typing-extensions>=3.6.4 in /usr/local/lib/python3.7/dist-packages (from importlib-metadata->rdflib) (4.1.1)\n",
            "Requirement already satisfied: zipp>=0.5 in /usr/local/lib/python3.7/dist-packages (from importlib-metadata->rdflib) (3.10.0)\n",
            "Requirement already satisfied: six in /usr/local/lib/python3.7/dist-packages (from isodate->rdflib) (1.15.0)\n",
            "Installing collected packages: isodate, rdflib\n",
            "Successfully installed isodate-0.6.1 rdflib-6.2.0\n"
          ]
        }
      ]
    },
    {
      "cell_type": "code",
      "execution_count": 5,
      "id": "aa40898d",
      "metadata": {
        "id": "aa40898d"
      },
      "outputs": [],
      "source": [
        "# Libraries\n",
        "import os\n",
        "from pyrosm import OSM\n",
        "from pathlib import Path\n",
        "from rdflib import Graph, Literal, RDF, URIRef, Namespace, FOAF\n",
        "from rdflib.namespace import XSD"
      ]
    },
    {
      "cell_type": "code",
      "execution_count": 60,
      "id": "c3c82fe8",
      "metadata": {
        "id": "c3c82fe8"
      },
      "outputs": [],
      "source": [
        "# Parameters and saving folder\n",
        "path = str(Path(os.path.abspath(os.getcwd())).absolute())\n",
        "dataset = path + '\\\\data\\\\padova-mestre-veneto.osm.pbf'\n",
        "savepath = path + 'C:\\\\Users\\\\Aliia\\\\PycharmProjects\\\\boring-wozniak\\\\data\\\\padova-mestre-veneto.osm.pbf'"
      ]
    },
    {
      "cell_type": "code",
      "source": [
        "# Loading dataset\n",
        "from pyrosm import OSM\n",
        "\n",
        "fp = '/content/data/padova-mestre-veneto.osm.pbf'\n",
        "osm = OSM(fp)"
      ],
      "metadata": {
        "id": "pvUYSNzWTMKI"
      },
      "id": "pvUYSNzWTMKI",
      "execution_count": 61,
      "outputs": []
    },
    {
      "cell_type": "markdown",
      "source": [
        "Buildings"
      ],
      "metadata": {
        "id": "Rol7EIX4TyDa"
      },
      "id": "Rol7EIX4TyDa"
    },
    {
      "cell_type": "code",
      "source": [
        "buildings = osm.get_buildings()"
      ],
      "metadata": {
        "id": "lw-1sP1zUZYe"
      },
      "id": "lw-1sP1zUZYe",
      "execution_count": 62,
      "outputs": []
    },
    {
      "cell_type": "code",
      "source": [
        "buildings.head()"
      ],
      "metadata": {
        "colab": {
          "base_uri": "https://localhost:8080/",
          "height": 646
        },
        "id": "VIMkP1uzUgsA",
        "outputId": "07acce8b-342e-4699-cd31-b296d939de74"
      },
      "id": "VIMkP1uzUgsA",
      "execution_count": 63,
      "outputs": [
        {
          "output_type": "execute_result",
          "data": {
            "text/plain": [
              "  addr:city addr:country addr:housenumber addr:housename addr:postcode  \\\n",
              "0      None         None             None           None          None   \n",
              "1      None         None             None           None          None   \n",
              "2   Venezia         None               11           None         30174   \n",
              "3      None         None             None           None          None   \n",
              "4      None         None             None           None          None   \n",
              "\n",
              "  addr:place      addr:street email                name  \\\n",
              "0       None             None  None                None   \n",
              "1       None             None  None                None   \n",
              "2       None  Via Sergio Gori  None    Teatro del Parco   \n",
              "3       None             None  None                None   \n",
              "4       None             None  None  Tronchetto Parking   \n",
              "\n",
              "           opening_hours  ...           source start_date wikipedia        id  \\\n",
              "0                   None  ...             None       None      None  15807159   \n",
              "1                   None  ...             None       None      None  19905963   \n",
              "2                   None  ...             None       None      None  19906045   \n",
              "3                   None  ...             None       None      None  23243893   \n",
              "4  PH,Mo-Su 00:00-24:00+  ...  survey;Bing WMS       None      None  23243985   \n",
              "\n",
              "  timestamp version                                           geometry  \\\n",
              "0         0      -1  POLYGON ((12.23064 45.48267, 12.23072 45.48284...   \n",
              "1         0      -1  POLYGON ((12.25963 45.50042, 12.25990 45.50090...   \n",
              "2         0      -1  POLYGON ((12.25901 45.49954, 12.25921 45.49959...   \n",
              "3         0      -1  POLYGON ((12.33720 45.43232, 12.33721 45.43230...   \n",
              "4         0      -1  POLYGON ((12.30731 45.44375, 12.30738 45.44372...   \n",
              "\n",
              "                                                tags osm_type changeset  \n",
              "0                                               None      way       NaN  \n",
              "1  {\"layer\":\"1\",\"leisure\":\"sports_centre\",\"sport\"...      way       NaN  \n",
              "2  {\"layer\":\"2\",\"name:de\":\"Parktheater\",\"wheelcha...      way       NaN  \n",
              "3  {\"bicycle\":\"no\",\"highway\":\"pedestrian\",\"lit\":\"...      way       NaN  \n",
              "4  {\"access\":\"yes\",\"fee\":\"yes\",\"parking\":\"multi-s...      way       NaN  \n",
              "\n",
              "[5 rows x 39 columns]"
            ],
            "text/html": [
              "\n",
              "  <div id=\"df-e002723c-f3ce-4f58-90e3-dc32480e658d\">\n",
              "    <div class=\"colab-df-container\">\n",
              "      <div>\n",
              "<style scoped>\n",
              "    .dataframe tbody tr th:only-of-type {\n",
              "        vertical-align: middle;\n",
              "    }\n",
              "\n",
              "    .dataframe tbody tr th {\n",
              "        vertical-align: top;\n",
              "    }\n",
              "\n",
              "    .dataframe thead th {\n",
              "        text-align: right;\n",
              "    }\n",
              "</style>\n",
              "<table border=\"1\" class=\"dataframe\">\n",
              "  <thead>\n",
              "    <tr style=\"text-align: right;\">\n",
              "      <th></th>\n",
              "      <th>addr:city</th>\n",
              "      <th>addr:country</th>\n",
              "      <th>addr:housenumber</th>\n",
              "      <th>addr:housename</th>\n",
              "      <th>addr:postcode</th>\n",
              "      <th>addr:place</th>\n",
              "      <th>addr:street</th>\n",
              "      <th>email</th>\n",
              "      <th>name</th>\n",
              "      <th>opening_hours</th>\n",
              "      <th>...</th>\n",
              "      <th>source</th>\n",
              "      <th>start_date</th>\n",
              "      <th>wikipedia</th>\n",
              "      <th>id</th>\n",
              "      <th>timestamp</th>\n",
              "      <th>version</th>\n",
              "      <th>geometry</th>\n",
              "      <th>tags</th>\n",
              "      <th>osm_type</th>\n",
              "      <th>changeset</th>\n",
              "    </tr>\n",
              "  </thead>\n",
              "  <tbody>\n",
              "    <tr>\n",
              "      <th>0</th>\n",
              "      <td>None</td>\n",
              "      <td>None</td>\n",
              "      <td>None</td>\n",
              "      <td>None</td>\n",
              "      <td>None</td>\n",
              "      <td>None</td>\n",
              "      <td>None</td>\n",
              "      <td>None</td>\n",
              "      <td>None</td>\n",
              "      <td>None</td>\n",
              "      <td>...</td>\n",
              "      <td>None</td>\n",
              "      <td>None</td>\n",
              "      <td>None</td>\n",
              "      <td>15807159</td>\n",
              "      <td>0</td>\n",
              "      <td>-1</td>\n",
              "      <td>POLYGON ((12.23064 45.48267, 12.23072 45.48284...</td>\n",
              "      <td>None</td>\n",
              "      <td>way</td>\n",
              "      <td>NaN</td>\n",
              "    </tr>\n",
              "    <tr>\n",
              "      <th>1</th>\n",
              "      <td>None</td>\n",
              "      <td>None</td>\n",
              "      <td>None</td>\n",
              "      <td>None</td>\n",
              "      <td>None</td>\n",
              "      <td>None</td>\n",
              "      <td>None</td>\n",
              "      <td>None</td>\n",
              "      <td>None</td>\n",
              "      <td>None</td>\n",
              "      <td>...</td>\n",
              "      <td>None</td>\n",
              "      <td>None</td>\n",
              "      <td>None</td>\n",
              "      <td>19905963</td>\n",
              "      <td>0</td>\n",
              "      <td>-1</td>\n",
              "      <td>POLYGON ((12.25963 45.50042, 12.25990 45.50090...</td>\n",
              "      <td>{\"layer\":\"1\",\"leisure\":\"sports_centre\",\"sport\"...</td>\n",
              "      <td>way</td>\n",
              "      <td>NaN</td>\n",
              "    </tr>\n",
              "    <tr>\n",
              "      <th>2</th>\n",
              "      <td>Venezia</td>\n",
              "      <td>None</td>\n",
              "      <td>11</td>\n",
              "      <td>None</td>\n",
              "      <td>30174</td>\n",
              "      <td>None</td>\n",
              "      <td>Via Sergio Gori</td>\n",
              "      <td>None</td>\n",
              "      <td>Teatro del Parco</td>\n",
              "      <td>None</td>\n",
              "      <td>...</td>\n",
              "      <td>None</td>\n",
              "      <td>None</td>\n",
              "      <td>None</td>\n",
              "      <td>19906045</td>\n",
              "      <td>0</td>\n",
              "      <td>-1</td>\n",
              "      <td>POLYGON ((12.25901 45.49954, 12.25921 45.49959...</td>\n",
              "      <td>{\"layer\":\"2\",\"name:de\":\"Parktheater\",\"wheelcha...</td>\n",
              "      <td>way</td>\n",
              "      <td>NaN</td>\n",
              "    </tr>\n",
              "    <tr>\n",
              "      <th>3</th>\n",
              "      <td>None</td>\n",
              "      <td>None</td>\n",
              "      <td>None</td>\n",
              "      <td>None</td>\n",
              "      <td>None</td>\n",
              "      <td>None</td>\n",
              "      <td>None</td>\n",
              "      <td>None</td>\n",
              "      <td>None</td>\n",
              "      <td>None</td>\n",
              "      <td>...</td>\n",
              "      <td>None</td>\n",
              "      <td>None</td>\n",
              "      <td>None</td>\n",
              "      <td>23243893</td>\n",
              "      <td>0</td>\n",
              "      <td>-1</td>\n",
              "      <td>POLYGON ((12.33720 45.43232, 12.33721 45.43230...</td>\n",
              "      <td>{\"bicycle\":\"no\",\"highway\":\"pedestrian\",\"lit\":\"...</td>\n",
              "      <td>way</td>\n",
              "      <td>NaN</td>\n",
              "    </tr>\n",
              "    <tr>\n",
              "      <th>4</th>\n",
              "      <td>None</td>\n",
              "      <td>None</td>\n",
              "      <td>None</td>\n",
              "      <td>None</td>\n",
              "      <td>None</td>\n",
              "      <td>None</td>\n",
              "      <td>None</td>\n",
              "      <td>None</td>\n",
              "      <td>Tronchetto Parking</td>\n",
              "      <td>PH,Mo-Su 00:00-24:00+</td>\n",
              "      <td>...</td>\n",
              "      <td>survey;Bing WMS</td>\n",
              "      <td>None</td>\n",
              "      <td>None</td>\n",
              "      <td>23243985</td>\n",
              "      <td>0</td>\n",
              "      <td>-1</td>\n",
              "      <td>POLYGON ((12.30731 45.44375, 12.30738 45.44372...</td>\n",
              "      <td>{\"access\":\"yes\",\"fee\":\"yes\",\"parking\":\"multi-s...</td>\n",
              "      <td>way</td>\n",
              "      <td>NaN</td>\n",
              "    </tr>\n",
              "  </tbody>\n",
              "</table>\n",
              "<p>5 rows × 39 columns</p>\n",
              "</div>\n",
              "      <button class=\"colab-df-convert\" onclick=\"convertToInteractive('df-e002723c-f3ce-4f58-90e3-dc32480e658d')\"\n",
              "              title=\"Convert this dataframe to an interactive table.\"\n",
              "              style=\"display:none;\">\n",
              "        \n",
              "  <svg xmlns=\"http://www.w3.org/2000/svg\" height=\"24px\"viewBox=\"0 0 24 24\"\n",
              "       width=\"24px\">\n",
              "    <path d=\"M0 0h24v24H0V0z\" fill=\"none\"/>\n",
              "    <path d=\"M18.56 5.44l.94 2.06.94-2.06 2.06-.94-2.06-.94-.94-2.06-.94 2.06-2.06.94zm-11 1L8.5 8.5l.94-2.06 2.06-.94-2.06-.94L8.5 2.5l-.94 2.06-2.06.94zm10 10l.94 2.06.94-2.06 2.06-.94-2.06-.94-.94-2.06-.94 2.06-2.06.94z\"/><path d=\"M17.41 7.96l-1.37-1.37c-.4-.4-.92-.59-1.43-.59-.52 0-1.04.2-1.43.59L10.3 9.45l-7.72 7.72c-.78.78-.78 2.05 0 2.83L4 21.41c.39.39.9.59 1.41.59.51 0 1.02-.2 1.41-.59l7.78-7.78 2.81-2.81c.8-.78.8-2.07 0-2.86zM5.41 20L4 18.59l7.72-7.72 1.47 1.35L5.41 20z\"/>\n",
              "  </svg>\n",
              "      </button>\n",
              "      \n",
              "  <style>\n",
              "    .colab-df-container {\n",
              "      display:flex;\n",
              "      flex-wrap:wrap;\n",
              "      gap: 12px;\n",
              "    }\n",
              "\n",
              "    .colab-df-convert {\n",
              "      background-color: #E8F0FE;\n",
              "      border: none;\n",
              "      border-radius: 50%;\n",
              "      cursor: pointer;\n",
              "      display: none;\n",
              "      fill: #1967D2;\n",
              "      height: 32px;\n",
              "      padding: 0 0 0 0;\n",
              "      width: 32px;\n",
              "    }\n",
              "\n",
              "    .colab-df-convert:hover {\n",
              "      background-color: #E2EBFA;\n",
              "      box-shadow: 0px 1px 2px rgba(60, 64, 67, 0.3), 0px 1px 3px 1px rgba(60, 64, 67, 0.15);\n",
              "      fill: #174EA6;\n",
              "    }\n",
              "\n",
              "    [theme=dark] .colab-df-convert {\n",
              "      background-color: #3B4455;\n",
              "      fill: #D2E3FC;\n",
              "    }\n",
              "\n",
              "    [theme=dark] .colab-df-convert:hover {\n",
              "      background-color: #434B5C;\n",
              "      box-shadow: 0px 1px 3px 1px rgba(0, 0, 0, 0.15);\n",
              "      filter: drop-shadow(0px 1px 2px rgba(0, 0, 0, 0.3));\n",
              "      fill: #FFFFFF;\n",
              "    }\n",
              "  </style>\n",
              "\n",
              "      <script>\n",
              "        const buttonEl =\n",
              "          document.querySelector('#df-e002723c-f3ce-4f58-90e3-dc32480e658d button.colab-df-convert');\n",
              "        buttonEl.style.display =\n",
              "          google.colab.kernel.accessAllowed ? 'block' : 'none';\n",
              "\n",
              "        async function convertToInteractive(key) {\n",
              "          const element = document.querySelector('#df-e002723c-f3ce-4f58-90e3-dc32480e658d');\n",
              "          const dataTable =\n",
              "            await google.colab.kernel.invokeFunction('convertToInteractive',\n",
              "                                                     [key], {});\n",
              "          if (!dataTable) return;\n",
              "\n",
              "          const docLinkHtml = 'Like what you see? Visit the ' +\n",
              "            '<a target=\"_blank\" href=https://colab.research.google.com/notebooks/data_table.ipynb>data table notebook</a>'\n",
              "            + ' to learn more about interactive tables.';\n",
              "          element.innerHTML = '';\n",
              "          dataTable['output_type'] = 'display_data';\n",
              "          await google.colab.output.renderOutput(dataTable, element);\n",
              "          const docLink = document.createElement('div');\n",
              "          docLink.innerHTML = docLinkHtml;\n",
              "          element.appendChild(docLink);\n",
              "        }\n",
              "      </script>\n",
              "    </div>\n",
              "  </div>\n",
              "  "
            ]
          },
          "metadata": {},
          "execution_count": 63
        }
      ]
    },
    {
      "cell_type": "code",
      "source": [
        "#filter buildings\n",
        "buildings = osm.get_buildings()\n",
        "buildings = buildings[buildings['name'].notnull()]\n",
        "buildings.info()"
      ],
      "metadata": {
        "colab": {
          "base_uri": "https://localhost:8080/"
        },
        "id": "Ndmk6PW6Tjt_",
        "outputId": "b33376c6-9566-4a1c-c862-bfe04a338ccd"
      },
      "id": "Ndmk6PW6Tjt_",
      "execution_count": 64,
      "outputs": [
        {
          "output_type": "stream",
          "name": "stdout",
          "text": [
            "<class 'geopandas.geodataframe.GeoDataFrame'>\n",
            "Int64Index: 2262 entries, 2 to 327401\n",
            "Data columns (total 39 columns):\n",
            " #   Column              Non-Null Count  Dtype   \n",
            "---  ------              --------------  -----   \n",
            " 0   addr:city           475 non-null    object  \n",
            " 1   addr:country        32 non-null     object  \n",
            " 2   addr:housenumber    562 non-null    object  \n",
            " 3   addr:housename      24 non-null     object  \n",
            " 4   addr:postcode       471 non-null    object  \n",
            " 5   addr:place          38 non-null     object  \n",
            " 6   addr:street         623 non-null    object  \n",
            " 7   email               74 non-null     object  \n",
            " 8   name                2262 non-null   object  \n",
            " 9   opening_hours       101 non-null    object  \n",
            " 10  operator            115 non-null    object  \n",
            " 11  phone               154 non-null    object  \n",
            " 12  ref                 1 non-null      object  \n",
            " 13  url                 7 non-null      object  \n",
            " 14  website             232 non-null    object  \n",
            " 15  building            2262 non-null   object  \n",
            " 16  amenity             661 non-null    object  \n",
            " 17  building:flats      1 non-null      object  \n",
            " 18  building:levels     303 non-null    object  \n",
            " 19  building:material   29 non-null     object  \n",
            " 20  building:min_level  2 non-null      object  \n",
            " 21  building:use        6 non-null      object  \n",
            " 22  craft               0 non-null      object  \n",
            " 23  height              94 non-null     object  \n",
            " 24  internet_access     39 non-null     object  \n",
            " 25  landuse             2 non-null      object  \n",
            " 26  levels              3 non-null      object  \n",
            " 27  office              24 non-null     object  \n",
            " 28  shop                178 non-null    object  \n",
            " 29  source              38 non-null     object  \n",
            " 30  start_date          112 non-null    object  \n",
            " 31  wikipedia           445 non-null    object  \n",
            " 32  id                  2262 non-null   int64   \n",
            " 33  timestamp           2262 non-null   int64   \n",
            " 34  version             2262 non-null   int8    \n",
            " 35  geometry            2262 non-null   geometry\n",
            " 36  tags                1458 non-null   object  \n",
            " 37  osm_type            2262 non-null   object  \n",
            " 38  changeset           119 non-null    float64 \n",
            "dtypes: float64(1), geometry(1), int64(2), int8(1), object(34)\n",
            "memory usage: 691.4+ KB\n"
          ]
        }
      ]
    },
    {
      "cell_type": "code",
      "source": [
        "# Construct ontology namespaces not known by RDFlib\n",
        "OSMO = Namespace(\"http://www.dei.unipd.it/database2/customOSMOntology#\")"
      ],
      "metadata": {
        "id": "Y8vAc92HYu9l"
      },
      "id": "Y8vAc92HYu9l",
      "execution_count": 66,
      "outputs": []
    },
    {
      "cell_type": "code",
      "source": [
        "# Create the graph\n",
        "g = Graph()\n",
        "\n",
        "# Bind the namespaces to a prefix\n",
        "g.bind(\"foaf\", FOAF)\n",
        "g.bind(\"xsd\", XSD)\n",
        "g.bind(\"osmo\", OSMO)"
      ],
      "metadata": {
        "id": "4jTqA5oHY1zy"
      },
      "id": "4jTqA5oHY1zy",
      "execution_count": 67,
      "outputs": []
    },
    {
      "cell_type": "code",
      "source": [
        "%%time\n",
        "#measure execution time\n",
        "\n",
        "for index, row in buildings.iterrows():\n",
        "    # Create the node to add to the Graph\n",
        "    # the node has 'building' + id as URI\n",
        "    Building = URIRef(OSMO[\"building\"+str(row['id'])])\n",
        "    g.add((Building, RDF.type, OSMO.Node))\n",
        "    g.add((Building, OSMO['hasId'], Literal(row['id'], datatype=XSD.integer)))\n",
        "    g.add((Building, OSMO['BuildingType'], Literal(row['shop'], datatype=XSD.string)))\n",
        "    g.add((Building, OSMO['BuildingType'], Literal(row['office'], datatype=XSD.string)))\n",
        "    g.add((Building, OSMO['BuildingType'], Literal(row['amenity'], datatype=XSD.string)))\n",
        "    g.add((Building, OSMO['opensAt'], Literal(row['opening_hours'], datatype=XSD.string)))\n",
        "    g.add((Building, OSMO['name'], Literal(row['name'], datatype=XSD.string)))\n",
        "    addr = '{}, {}, {}, {}'.format(row['addr:street'], row['addr:housenumber'], row['addr:city'], row['addr:postcode'])\n",
        "    g.add((Building, OSMO['address'], Literal(addr, datatype=XSD.string)))\n",
        "    g.add((Building, OSMO['website'], Literal(row['website'], datatype=XSD.string)))"
      ],
      "metadata": {
        "colab": {
          "base_uri": "https://localhost:8080/"
        },
        "id": "jvCkdUWMY7yD",
        "outputId": "90a48461-eba8-468e-e498-1979bcb5ec64"
      },
      "id": "jvCkdUWMY7yD",
      "execution_count": 68,
      "outputs": [
        {
          "output_type": "stream",
          "name": "stdout",
          "text": [
            "CPU times: user 946 ms, sys: 11.4 ms, total: 958 ms\n",
            "Wall time: 952 ms\n"
          ]
        }
      ]
    },
    {
      "cell_type": "code",
      "source": [
        "%%time\n",
        "# print all the data in the Turtle format\n",
        "print(\"--- saving serialization ---\")\n",
        "with open(savepath + 'buildings.ttl', 'wb') as file:\n",
        "    file.write(g.serialize(format='turtle', encoding='utf-8'))"
      ],
      "metadata": {
        "colab": {
          "base_uri": "https://localhost:8080/"
        },
        "id": "s4hFqVvPma9h",
        "outputId": "250459fc-b316-437b-cc96-dea910d9819a"
      },
      "id": "s4hFqVvPma9h",
      "execution_count": 69,
      "outputs": [
        {
          "output_type": "stream",
          "name": "stdout",
          "text": [
            "--- saving serialization ---\n",
            "CPU times: user 1.07 s, sys: 4.75 ms, total: 1.08 s\n",
            "Wall time: 1.08 s\n"
          ]
        }
      ]
    }
  ],
  "metadata": {
    "kernelspec": {
      "display_name": "Python 3 (ipykernel)",
      "language": "python",
      "name": "python3"
    },
    "language_info": {
      "codemirror_mode": {
        "name": "ipython",
        "version": 3
      },
      "file_extension": ".py",
      "mimetype": "text/x-python",
      "name": "python",
      "nbconvert_exporter": "python",
      "pygments_lexer": "ipython3",
      "version": "3.9.12"
    },
    "colab": {
      "provenance": []
    }
  },
  "nbformat": 4,
  "nbformat_minor": 5
}