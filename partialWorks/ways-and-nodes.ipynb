{
 "cells": [
  {
   "cell_type": "code",
   "execution_count": 13,
   "outputs": [],
   "source": [
    "import os\n",
    "from pathlib import Path\n",
    "\n",
    "path = str(Path(os.path.abspath(os.getcwd())).absolute())\n",
    "\n",
    "savePath =  path + '\\\\graph\\\\'\n",
    "\n",
    "dataPath = path + '\\\\data\\\\padova-mestre-veneto.osm.pbf'"
   ],
   "metadata": {
    "collapsed": false,
    "pycharm": {
     "name": "#%%\n"
    }
   }
  },
  {
   "cell_type": "code",
   "execution_count": 14,
   "outputs": [],
   "source": [
    "from rdflib import Graph, Literal, RDF, URIRef, Namespace, FOAF\n",
    "\n",
    "from rdflib.namespace import XSD\n",
    "OSMO = Namespace(\"http://www.dei.unipd.it/database2/cutomOSMOntology#\")"
   ],
   "metadata": {
    "collapsed": false,
    "pycharm": {
     "name": "#%%\n"
    }
   }
  },
  {
   "cell_type": "code",
   "execution_count": 15,
   "outputs": [],
   "source": [
    "from pyrosm import OSM\n",
    "\n",
    "osm = OSM(dataPath)"
   ],
   "metadata": {
    "collapsed": false,
    "pycharm": {
     "name": "#%%\n"
    }
   }
  },
  {
   "cell_type": "code",
   "execution_count": 16,
   "outputs": [],
   "source": [
    "nodes, ways = osm.get_network(network_type='all', nodes=True)"
   ],
   "metadata": {
    "collapsed": false,
    "pycharm": {
     "name": "#%%\n"
    }
   }
  },
  {
   "cell_type": "code",
   "execution_count": 164,
   "outputs": [
    {
     "data": {
      "text/plain": "         lon        lat  tags  timestamp  version  changeset          id  \\\n0  12.349529  45.451422  None          0        0          0    27181827   \n1  12.350457  45.452304  None          0        0          0  5591132061   \n2  12.350471  45.452319  None          0        0          0  1830203504   \n3  12.350487  45.452335  None          0        0          0  5591132059   \n4  12.351324  45.453154  None          0        0          0  1854858007   \n\n                    geometry  \n0  POINT (12.34953 45.45142)  \n1  POINT (12.35046 45.45230)  \n2  POINT (12.35047 45.45232)  \n3  POINT (12.35049 45.45234)  \n4  POINT (12.35132 45.45315)  ",
      "text/html": "<div>\n<style scoped>\n    .dataframe tbody tr th:only-of-type {\n        vertical-align: middle;\n    }\n\n    .dataframe tbody tr th {\n        vertical-align: top;\n    }\n\n    .dataframe thead th {\n        text-align: right;\n    }\n</style>\n<table border=\"1\" class=\"dataframe\">\n  <thead>\n    <tr style=\"text-align: right;\">\n      <th></th>\n      <th>lon</th>\n      <th>lat</th>\n      <th>tags</th>\n      <th>timestamp</th>\n      <th>version</th>\n      <th>changeset</th>\n      <th>id</th>\n      <th>geometry</th>\n    </tr>\n  </thead>\n  <tbody>\n    <tr>\n      <th>0</th>\n      <td>12.349529</td>\n      <td>45.451422</td>\n      <td>None</td>\n      <td>0</td>\n      <td>0</td>\n      <td>0</td>\n      <td>27181827</td>\n      <td>POINT (12.34953 45.45142)</td>\n    </tr>\n    <tr>\n      <th>1</th>\n      <td>12.350457</td>\n      <td>45.452304</td>\n      <td>None</td>\n      <td>0</td>\n      <td>0</td>\n      <td>0</td>\n      <td>5591132061</td>\n      <td>POINT (12.35046 45.45230)</td>\n    </tr>\n    <tr>\n      <th>2</th>\n      <td>12.350471</td>\n      <td>45.452319</td>\n      <td>None</td>\n      <td>0</td>\n      <td>0</td>\n      <td>0</td>\n      <td>1830203504</td>\n      <td>POINT (12.35047 45.45232)</td>\n    </tr>\n    <tr>\n      <th>3</th>\n      <td>12.350487</td>\n      <td>45.452335</td>\n      <td>None</td>\n      <td>0</td>\n      <td>0</td>\n      <td>0</td>\n      <td>5591132059</td>\n      <td>POINT (12.35049 45.45234)</td>\n    </tr>\n    <tr>\n      <th>4</th>\n      <td>12.351324</td>\n      <td>45.453154</td>\n      <td>None</td>\n      <td>0</td>\n      <td>0</td>\n      <td>0</td>\n      <td>1854858007</td>\n      <td>POINT (12.35132 45.45315)</td>\n    </tr>\n  </tbody>\n</table>\n</div>"
     },
     "execution_count": 164,
     "metadata": {},
     "output_type": "execute_result"
    }
   ],
   "source": [
    "nodes.head()"
   ],
   "metadata": {
    "collapsed": false,
    "pycharm": {
     "name": "#%%\n"
    }
   }
  },
  {
   "cell_type": "markdown",
   "source": [
    "# Add nodes to graph"
   ],
   "metadata": {
    "collapsed": false,
    "pycharm": {
     "name": "#%% md\n"
    }
   }
  },
  {
   "cell_type": "code",
   "execution_count": 165,
   "outputs": [],
   "source": [
    "g = Graph()\n",
    "\n",
    "g.bind(\"foaf\", FOAF)\n",
    "g.bind(\"xsd\", XSD)\n",
    "g.bind(\"osmo\", OSMO)"
   ],
   "metadata": {
    "collapsed": false,
    "pycharm": {
     "name": "#%%\n"
    }
   }
  },
  {
   "cell_type": "code",
   "execution_count": 166,
   "outputs": [
    {
     "name": "stdout",
     "output_type": "stream",
     "text": [
      "CPU times: total: 1min 20s\n",
      "Wall time: 1min 22s\n"
     ]
    }
   ],
   "source": [
    "%%time\n",
    "#measure execution time\n",
    "\n",
    "for index, row in nodes.iterrows():\n",
    "    # Create the node to add  to the Graph\n",
    "    # the node has the namespace + the movie id as URI\n",
    "    Node = URIRef(OSMO[\"node\"+str(row['id'])])\n",
    "    g.add((Node, RDF.type, OSMO.Node))\n",
    "    g.add((Node, OSMO['hasId'], Literal(row['id'], datatype=XSD.integer)))\n",
    "    g.add((Node, OSMO['hasLatitude'], Literal(row['lat'], datatype=XSD.decimal)))\n",
    "    g.add((Node, OSMO['hasLongitude'], Literal(row['lon'], datatype=XSD.decimal)))"
   ],
   "metadata": {
    "collapsed": false,
    "pycharm": {
     "name": "#%%\n"
    }
   }
  },
  {
   "cell_type": "markdown",
   "source": [
    "# Write nodes"
   ],
   "metadata": {
    "collapsed": false,
    "pycharm": {
     "name": "#%% md\n"
    }
   }
  },
  {
   "cell_type": "code",
   "execution_count": 167,
   "outputs": [
    {
     "name": "stdout",
     "output_type": "stream",
     "text": [
      "--- saving serialization ---\n",
      "CPU times: total: 1min 10s\n",
      "Wall time: 1min 10s\n"
     ]
    }
   ],
   "source": [
    "%%time\n",
    "# print all the data in the Turtle format\n",
    "print(\"--- saving serialization ---\")\n",
    "with open(savePath + 'nodes.ttl', 'wb') as file:\n",
    "    file.write(g.serialize(format='turtle', encoding='utf-8'))"
   ],
   "metadata": {
    "collapsed": false,
    "pycharm": {
     "name": "#%%\n"
    }
   }
  },
  {
   "cell_type": "code",
   "execution_count": 168,
   "outputs": [
    {
     "data": {
      "text/plain": "   access  area bicycle bicycle_road bridge busway cycleway est_width  foot  \\\n0    None  None    None         None   None   None     None      None  None   \n1    None  None    None         None   None   None     None      None  None   \n2    None  None    None         None   None   None     None      None  None   \n3    None  None    None         None   None   None     None      None  None   \n4    None  None    None         None   None   None     None      None  None   \n..    ...   ...     ...          ...    ...    ...      ...       ...   ...   \n95   None  None    None         None   None   None     None      None  None   \n96   None  None    None         None   None   None     None      None  None   \n97   None  None    None         None   None   None     None      None  None   \n98   None  None    None         None   None   None     None      None  None   \n99   None  None    None         None   None   None     None      None  None   \n\n   footway  ... width       id timestamp version  \\\n0     None  ...  None  4429697         0      -1   \n1     None  ...  None  4429697         0      -1   \n2     None  ...  None  4429697         0      -1   \n3     None  ...  None  4429697         0      -1   \n4     None  ...  None  4429697         0      -1   \n..     ...  ...   ...      ...       ...     ...   \n95    None  ...  None  4710518         0      -1   \n96    None  ...  None  4710518         0      -1   \n97    None  ...  None  4710518         0      -1   \n98    None  ...  None  4710519         0      -1   \n99    None  ...  None  4710519         0      -1   \n\n                                                 tags osm_type  \\\n0   {\"visible_name\":\"FONDAMENTA VETRAI;FONDAMENTA ...      way   \n1   {\"visible_name\":\"FONDAMENTA VETRAI;FONDAMENTA ...      way   \n2   {\"visible_name\":\"FONDAMENTA VETRAI;FONDAMENTA ...      way   \n3   {\"visible_name\":\"FONDAMENTA VETRAI;FONDAMENTA ...      way   \n4   {\"visible_name\":\"FONDAMENTA VETRAI;FONDAMENTA ...      way   \n..                                                ...      ...   \n95                                               None      way   \n96                                               None      way   \n97                                               None      way   \n98                                               None      way   \n99                                               None      way   \n\n                                             geometry           u           v  \\\n0   LINESTRING (12.34953 45.45142, 12.35046 45.45230)    27181827  5591132061   \n1   LINESTRING (12.35046 45.45230, 12.35047 45.45232)  5591132061  1830203504   \n2   LINESTRING (12.35047 45.45232, 12.35049 45.45234)  1830203504  5591132059   \n3   LINESTRING (12.35049 45.45234, 12.35132 45.45315)  5591132059  1854858007   \n4   LINESTRING (12.35132 45.45315, 12.35175 45.45356)  1854858007  5591092515   \n..                                                ...         ...         ...   \n95  LINESTRING (12.27602 45.50525, 12.27599 45.50434)  4271309298  4271309044   \n96  LINESTRING (12.27599 45.50434, 12.27599 45.50426)  4271309044    29985893   \n97  LINESTRING (12.27599 45.50426, 12.27598 45.50405)    29985893    29985918   \n98  LINESTRING (12.27435 45.50533, 12.27447 45.50533)    29985899  4270136411   \n99  LINESTRING (12.27447 45.50533, 12.27463 45.50532)  4270136411  8668781828   \n\n     length  \n0   121.958  \n1     1.997  \n2     2.187  \n3   111.968  \n4    56.281  \n..      ...  \n95  100.993  \n96    9.654  \n97   23.133  \n98    9.276  \n99   12.370  \n\n[100 rows x 43 columns]",
      "text/html": "<div>\n<style scoped>\n    .dataframe tbody tr th:only-of-type {\n        vertical-align: middle;\n    }\n\n    .dataframe tbody tr th {\n        vertical-align: top;\n    }\n\n    .dataframe thead th {\n        text-align: right;\n    }\n</style>\n<table border=\"1\" class=\"dataframe\">\n  <thead>\n    <tr style=\"text-align: right;\">\n      <th></th>\n      <th>access</th>\n      <th>area</th>\n      <th>bicycle</th>\n      <th>bicycle_road</th>\n      <th>bridge</th>\n      <th>busway</th>\n      <th>cycleway</th>\n      <th>est_width</th>\n      <th>foot</th>\n      <th>footway</th>\n      <th>...</th>\n      <th>width</th>\n      <th>id</th>\n      <th>timestamp</th>\n      <th>version</th>\n      <th>tags</th>\n      <th>osm_type</th>\n      <th>geometry</th>\n      <th>u</th>\n      <th>v</th>\n      <th>length</th>\n    </tr>\n  </thead>\n  <tbody>\n    <tr>\n      <th>0</th>\n      <td>None</td>\n      <td>None</td>\n      <td>None</td>\n      <td>None</td>\n      <td>None</td>\n      <td>None</td>\n      <td>None</td>\n      <td>None</td>\n      <td>None</td>\n      <td>None</td>\n      <td>...</td>\n      <td>None</td>\n      <td>4429697</td>\n      <td>0</td>\n      <td>-1</td>\n      <td>{\"visible_name\":\"FONDAMENTA VETRAI;FONDAMENTA ...</td>\n      <td>way</td>\n      <td>LINESTRING (12.34953 45.45142, 12.35046 45.45230)</td>\n      <td>27181827</td>\n      <td>5591132061</td>\n      <td>121.958</td>\n    </tr>\n    <tr>\n      <th>1</th>\n      <td>None</td>\n      <td>None</td>\n      <td>None</td>\n      <td>None</td>\n      <td>None</td>\n      <td>None</td>\n      <td>None</td>\n      <td>None</td>\n      <td>None</td>\n      <td>None</td>\n      <td>...</td>\n      <td>None</td>\n      <td>4429697</td>\n      <td>0</td>\n      <td>-1</td>\n      <td>{\"visible_name\":\"FONDAMENTA VETRAI;FONDAMENTA ...</td>\n      <td>way</td>\n      <td>LINESTRING (12.35046 45.45230, 12.35047 45.45232)</td>\n      <td>5591132061</td>\n      <td>1830203504</td>\n      <td>1.997</td>\n    </tr>\n    <tr>\n      <th>2</th>\n      <td>None</td>\n      <td>None</td>\n      <td>None</td>\n      <td>None</td>\n      <td>None</td>\n      <td>None</td>\n      <td>None</td>\n      <td>None</td>\n      <td>None</td>\n      <td>None</td>\n      <td>...</td>\n      <td>None</td>\n      <td>4429697</td>\n      <td>0</td>\n      <td>-1</td>\n      <td>{\"visible_name\":\"FONDAMENTA VETRAI;FONDAMENTA ...</td>\n      <td>way</td>\n      <td>LINESTRING (12.35047 45.45232, 12.35049 45.45234)</td>\n      <td>1830203504</td>\n      <td>5591132059</td>\n      <td>2.187</td>\n    </tr>\n    <tr>\n      <th>3</th>\n      <td>None</td>\n      <td>None</td>\n      <td>None</td>\n      <td>None</td>\n      <td>None</td>\n      <td>None</td>\n      <td>None</td>\n      <td>None</td>\n      <td>None</td>\n      <td>None</td>\n      <td>...</td>\n      <td>None</td>\n      <td>4429697</td>\n      <td>0</td>\n      <td>-1</td>\n      <td>{\"visible_name\":\"FONDAMENTA VETRAI;FONDAMENTA ...</td>\n      <td>way</td>\n      <td>LINESTRING (12.35049 45.45234, 12.35132 45.45315)</td>\n      <td>5591132059</td>\n      <td>1854858007</td>\n      <td>111.968</td>\n    </tr>\n    <tr>\n      <th>4</th>\n      <td>None</td>\n      <td>None</td>\n      <td>None</td>\n      <td>None</td>\n      <td>None</td>\n      <td>None</td>\n      <td>None</td>\n      <td>None</td>\n      <td>None</td>\n      <td>None</td>\n      <td>...</td>\n      <td>None</td>\n      <td>4429697</td>\n      <td>0</td>\n      <td>-1</td>\n      <td>{\"visible_name\":\"FONDAMENTA VETRAI;FONDAMENTA ...</td>\n      <td>way</td>\n      <td>LINESTRING (12.35132 45.45315, 12.35175 45.45356)</td>\n      <td>1854858007</td>\n      <td>5591092515</td>\n      <td>56.281</td>\n    </tr>\n    <tr>\n      <th>...</th>\n      <td>...</td>\n      <td>...</td>\n      <td>...</td>\n      <td>...</td>\n      <td>...</td>\n      <td>...</td>\n      <td>...</td>\n      <td>...</td>\n      <td>...</td>\n      <td>...</td>\n      <td>...</td>\n      <td>...</td>\n      <td>...</td>\n      <td>...</td>\n      <td>...</td>\n      <td>...</td>\n      <td>...</td>\n      <td>...</td>\n      <td>...</td>\n      <td>...</td>\n      <td>...</td>\n    </tr>\n    <tr>\n      <th>95</th>\n      <td>None</td>\n      <td>None</td>\n      <td>None</td>\n      <td>None</td>\n      <td>None</td>\n      <td>None</td>\n      <td>None</td>\n      <td>None</td>\n      <td>None</td>\n      <td>None</td>\n      <td>...</td>\n      <td>None</td>\n      <td>4710518</td>\n      <td>0</td>\n      <td>-1</td>\n      <td>None</td>\n      <td>way</td>\n      <td>LINESTRING (12.27602 45.50525, 12.27599 45.50434)</td>\n      <td>4271309298</td>\n      <td>4271309044</td>\n      <td>100.993</td>\n    </tr>\n    <tr>\n      <th>96</th>\n      <td>None</td>\n      <td>None</td>\n      <td>None</td>\n      <td>None</td>\n      <td>None</td>\n      <td>None</td>\n      <td>None</td>\n      <td>None</td>\n      <td>None</td>\n      <td>None</td>\n      <td>...</td>\n      <td>None</td>\n      <td>4710518</td>\n      <td>0</td>\n      <td>-1</td>\n      <td>None</td>\n      <td>way</td>\n      <td>LINESTRING (12.27599 45.50434, 12.27599 45.50426)</td>\n      <td>4271309044</td>\n      <td>29985893</td>\n      <td>9.654</td>\n    </tr>\n    <tr>\n      <th>97</th>\n      <td>None</td>\n      <td>None</td>\n      <td>None</td>\n      <td>None</td>\n      <td>None</td>\n      <td>None</td>\n      <td>None</td>\n      <td>None</td>\n      <td>None</td>\n      <td>None</td>\n      <td>...</td>\n      <td>None</td>\n      <td>4710518</td>\n      <td>0</td>\n      <td>-1</td>\n      <td>None</td>\n      <td>way</td>\n      <td>LINESTRING (12.27599 45.50426, 12.27598 45.50405)</td>\n      <td>29985893</td>\n      <td>29985918</td>\n      <td>23.133</td>\n    </tr>\n    <tr>\n      <th>98</th>\n      <td>None</td>\n      <td>None</td>\n      <td>None</td>\n      <td>None</td>\n      <td>None</td>\n      <td>None</td>\n      <td>None</td>\n      <td>None</td>\n      <td>None</td>\n      <td>None</td>\n      <td>...</td>\n      <td>None</td>\n      <td>4710519</td>\n      <td>0</td>\n      <td>-1</td>\n      <td>None</td>\n      <td>way</td>\n      <td>LINESTRING (12.27435 45.50533, 12.27447 45.50533)</td>\n      <td>29985899</td>\n      <td>4270136411</td>\n      <td>9.276</td>\n    </tr>\n    <tr>\n      <th>99</th>\n      <td>None</td>\n      <td>None</td>\n      <td>None</td>\n      <td>None</td>\n      <td>None</td>\n      <td>None</td>\n      <td>None</td>\n      <td>None</td>\n      <td>None</td>\n      <td>None</td>\n      <td>...</td>\n      <td>None</td>\n      <td>4710519</td>\n      <td>0</td>\n      <td>-1</td>\n      <td>None</td>\n      <td>way</td>\n      <td>LINESTRING (12.27447 45.50533, 12.27463 45.50532)</td>\n      <td>4270136411</td>\n      <td>8668781828</td>\n      <td>12.370</td>\n    </tr>\n  </tbody>\n</table>\n<p>100 rows × 43 columns</p>\n</div>"
     },
     "execution_count": 168,
     "metadata": {},
     "output_type": "execute_result"
    }
   ],
   "source": [
    "ways.head(100)"
   ],
   "metadata": {
    "collapsed": false,
    "pycharm": {
     "name": "#%%\n"
    }
   }
  },
  {
   "cell_type": "markdown",
   "source": [
    "# Add roads to graph\n",
    "## First group roads by id and aggregate lengths and nodes"
   ],
   "metadata": {
    "collapsed": false,
    "pycharm": {
     "name": "#%% md\n"
    }
   }
  },
  {
   "cell_type": "code",
   "execution_count": 169,
   "outputs": [],
   "source": [
    "ways_grouped = ways.groupby('id').agg({'name':'first',\n",
    "                        'maxspeed':'first',\n",
    "                        'lanes':'first',\n",
    "                        'lit':'first',\n",
    "                        'oneway':'first',\n",
    "                        'surface':'first',\n",
    "                        'overtaking':'first',\n",
    "                        'bicycle_road':'first',\n",
    "                        'footway':'first',\n",
    "                        'motorroad':'first',\n",
    "                        'busway':'first',\n",
    "                             'length': sum,\n",
    "                             'u': list,\n",
    "                             'v': 'last' }).reset_index()"
   ],
   "metadata": {
    "collapsed": false,
    "pycharm": {
     "name": "#%%\n"
    }
   }
  },
  {
   "cell_type": "markdown",
   "source": [
    "## Initialize graph and insert roads"
   ],
   "metadata": {
    "collapsed": false,
    "pycharm": {
     "name": "#%% md\n"
    }
   }
  },
  {
   "cell_type": "code",
   "execution_count": 170,
   "outputs": [],
   "source": [
    "g = Graph()\n",
    "g.bind(\"foaf\", FOAF)\n",
    "g.bind(\"xsd\", XSD)\n",
    "g.bind(\"osmo\", OSMO)"
   ],
   "metadata": {
    "collapsed": false,
    "pycharm": {
     "name": "#%%\n"
    }
   }
  },
  {
   "cell_type": "code",
   "execution_count": 171,
   "outputs": [
    {
     "name": "stderr",
     "output_type": "stream",
     "text": [
      "Failed to convert Literal lexical form to value. Datatype=http://www.w3.org/2001/XMLSchema#integer, Converter=<class 'int'>\n",
      "Traceback (most recent call last):\n",
      "  File \"C:\\Users\\ASUS\\anaconda3\\envs\\boring-wozniak\\lib\\site-packages\\rdflib\\term.py\", line 2084, in _castLexicalToPython\n",
      "    return conv_func(lexical)  # type: ignore[arg-type]\n",
      "ValueError: invalid literal for int() with base 10: 'IT:urban'\n",
      "Failed to convert Literal lexical form to value. Datatype=http://www.w3.org/2001/XMLSchema#integer, Converter=<class 'int'>\n",
      "Traceback (most recent call last):\n",
      "  File \"C:\\Users\\ASUS\\anaconda3\\envs\\boring-wozniak\\lib\\site-packages\\rdflib\\term.py\", line 2084, in _castLexicalToPython\n",
      "    return conv_func(lexical)  # type: ignore[arg-type]\n",
      "ValueError: invalid literal for int() with base 10: '1.5'\n",
      "Failed to convert Literal lexical form to value. Datatype=http://www.w3.org/2001/XMLSchema#integer, Converter=<class 'int'>\n",
      "Traceback (most recent call last):\n",
      "  File \"C:\\Users\\ASUS\\anaconda3\\envs\\boring-wozniak\\lib\\site-packages\\rdflib\\term.py\", line 2084, in _castLexicalToPython\n",
      "    return conv_func(lexical)  # type: ignore[arg-type]\n",
      "ValueError: invalid literal for int() with base 10: 'IT:urban'\n",
      "Failed to convert Literal lexical form to value. Datatype=http://www.w3.org/2001/XMLSchema#integer, Converter=<class 'int'>\n",
      "Traceback (most recent call last):\n",
      "  File \"C:\\Users\\ASUS\\anaconda3\\envs\\boring-wozniak\\lib\\site-packages\\rdflib\\term.py\", line 2084, in _castLexicalToPython\n",
      "    return conv_func(lexical)  # type: ignore[arg-type]\n",
      "ValueError: invalid literal for int() with base 10: 'IT:urban'\n",
      "Failed to convert Literal lexical form to value. Datatype=http://www.w3.org/2001/XMLSchema#integer, Converter=<class 'int'>\n",
      "Traceback (most recent call last):\n",
      "  File \"C:\\Users\\ASUS\\anaconda3\\envs\\boring-wozniak\\lib\\site-packages\\rdflib\\term.py\", line 2084, in _castLexicalToPython\n",
      "    return conv_func(lexical)  # type: ignore[arg-type]\n",
      "ValueError: invalid literal for int() with base 10: 'IT:urban'\n",
      "Failed to convert Literal lexical form to value. Datatype=http://www.w3.org/2001/XMLSchema#integer, Converter=<class 'int'>\n",
      "Traceback (most recent call last):\n",
      "  File \"C:\\Users\\ASUS\\anaconda3\\envs\\boring-wozniak\\lib\\site-packages\\rdflib\\term.py\", line 2084, in _castLexicalToPython\n",
      "    return conv_func(lexical)  # type: ignore[arg-type]\n",
      "ValueError: invalid literal for int() with base 10: 'IT:urban'\n",
      "Failed to convert Literal lexical form to value. Datatype=http://www.w3.org/2001/XMLSchema#integer, Converter=<class 'int'>\n",
      "Traceback (most recent call last):\n",
      "  File \"C:\\Users\\ASUS\\anaconda3\\envs\\boring-wozniak\\lib\\site-packages\\rdflib\\term.py\", line 2084, in _castLexicalToPython\n",
      "    return conv_func(lexical)  # type: ignore[arg-type]\n",
      "ValueError: invalid literal for int() with base 10: 'IT:urban'\n",
      "Failed to convert Literal lexical form to value. Datatype=http://www.w3.org/2001/XMLSchema#integer, Converter=<class 'int'>\n",
      "Traceback (most recent call last):\n",
      "  File \"C:\\Users\\ASUS\\anaconda3\\envs\\boring-wozniak\\lib\\site-packages\\rdflib\\term.py\", line 2084, in _castLexicalToPython\n",
      "    return conv_func(lexical)  # type: ignore[arg-type]\n",
      "ValueError: invalid literal for int() with base 10: 'IT:urban'\n",
      "Failed to convert Literal lexical form to value. Datatype=http://www.w3.org/2001/XMLSchema#integer, Converter=<class 'int'>\n",
      "Traceback (most recent call last):\n",
      "  File \"C:\\Users\\ASUS\\anaconda3\\envs\\boring-wozniak\\lib\\site-packages\\rdflib\\term.py\", line 2084, in _castLexicalToPython\n",
      "    return conv_func(lexical)  # type: ignore[arg-type]\n",
      "ValueError: invalid literal for int() with base 10: 'IT:urban'\n",
      "Failed to convert Literal lexical form to value. Datatype=http://www.w3.org/2001/XMLSchema#integer, Converter=<class 'int'>\n",
      "Traceback (most recent call last):\n",
      "  File \"C:\\Users\\ASUS\\anaconda3\\envs\\boring-wozniak\\lib\\site-packages\\rdflib\\term.py\", line 2084, in _castLexicalToPython\n",
      "    return conv_func(lexical)  # type: ignore[arg-type]\n",
      "ValueError: invalid literal for int() with base 10: 'IT:urban'\n",
      "Failed to convert Literal lexical form to value. Datatype=http://www.w3.org/2001/XMLSchema#integer, Converter=<class 'int'>\n",
      "Traceback (most recent call last):\n",
      "  File \"C:\\Users\\ASUS\\anaconda3\\envs\\boring-wozniak\\lib\\site-packages\\rdflib\\term.py\", line 2084, in _castLexicalToPython\n",
      "    return conv_func(lexical)  # type: ignore[arg-type]\n",
      "ValueError: invalid literal for int() with base 10: 'IT:urban'\n",
      "Failed to convert Literal lexical form to value. Datatype=http://www.w3.org/2001/XMLSchema#integer, Converter=<class 'int'>\n",
      "Traceback (most recent call last):\n",
      "  File \"C:\\Users\\ASUS\\anaconda3\\envs\\boring-wozniak\\lib\\site-packages\\rdflib\\term.py\", line 2084, in _castLexicalToPython\n",
      "    return conv_func(lexical)  # type: ignore[arg-type]\n",
      "ValueError: invalid literal for int() with base 10: 'IT:urban'\n",
      "Failed to convert Literal lexical form to value. Datatype=http://www.w3.org/2001/XMLSchema#integer, Converter=<class 'int'>\n",
      "Traceback (most recent call last):\n",
      "  File \"C:\\Users\\ASUS\\anaconda3\\envs\\boring-wozniak\\lib\\site-packages\\rdflib\\term.py\", line 2084, in _castLexicalToPython\n",
      "    return conv_func(lexical)  # type: ignore[arg-type]\n",
      "ValueError: invalid literal for int() with base 10: 'IT:urban'\n",
      "Failed to convert Literal lexical form to value. Datatype=http://www.w3.org/2001/XMLSchema#integer, Converter=<class 'int'>\n",
      "Traceback (most recent call last):\n",
      "  File \"C:\\Users\\ASUS\\anaconda3\\envs\\boring-wozniak\\lib\\site-packages\\rdflib\\term.py\", line 2084, in _castLexicalToPython\n",
      "    return conv_func(lexical)  # type: ignore[arg-type]\n",
      "ValueError: invalid literal for int() with base 10: 'IT:urban'\n",
      "Failed to convert Literal lexical form to value. Datatype=http://www.w3.org/2001/XMLSchema#integer, Converter=<class 'int'>\n",
      "Traceback (most recent call last):\n",
      "  File \"C:\\Users\\ASUS\\anaconda3\\envs\\boring-wozniak\\lib\\site-packages\\rdflib\\term.py\", line 2084, in _castLexicalToPython\n",
      "    return conv_func(lexical)  # type: ignore[arg-type]\n",
      "ValueError: invalid literal for int() with base 10: 'IT:urban'\n",
      "Failed to convert Literal lexical form to value. Datatype=http://www.w3.org/2001/XMLSchema#integer, Converter=<class 'int'>\n",
      "Traceback (most recent call last):\n",
      "  File \"C:\\Users\\ASUS\\anaconda3\\envs\\boring-wozniak\\lib\\site-packages\\rdflib\\term.py\", line 2084, in _castLexicalToPython\n",
      "    return conv_func(lexical)  # type: ignore[arg-type]\n",
      "ValueError: invalid literal for int() with base 10: 'IT:urban'\n"
     ]
    },
    {
     "name": "stdout",
     "output_type": "stream",
     "text": [
      "CPU times: total: 3min 5s\n",
      "Wall time: 3min 7s\n"
     ]
    }
   ],
   "source": [
    "%%time\n",
    "#measure execution time\n",
    "\n",
    "for index, row in ways_grouped.iterrows():\n",
    "    # Create the node to add to the Graph\n",
    "    # the node has the namespace + the movie id as URI\n",
    "    Road = URIRef(OSMO[\"road\"+str(row['id'])])\n",
    "\n",
    "    for uindex, nodeId in enumerate(row['u']):\n",
    "        Node = URIRef(OSMO[\"node\"+str(nodeId)])\n",
    "\n",
    "        if uindex == 0:\n",
    "            g.add((Road, OSMO['hasStartNode'], Node))\n",
    "        else:\n",
    "            g.add((Road, OSMO['hasMiddleNode'], Node))\n",
    "\n",
    "    endNode = URIRef(OSMO[\"node\"+str(row['v'])])\n",
    "    g.add((Road, OSMO['hasEndNode'], endNode))\n",
    "    g.add((Road, RDF.type, OSMO.Road))\n",
    "    g.add((Road, OSMO['hasId'], Literal(row['id'], datatype=XSD.integer)))\n",
    "    g.add((Road, OSMO['hasName'], Literal(row['name'], datatype=XSD.string)))\n",
    "    g.add((Road, OSMO['hasLength'], Literal(round(ways[ways['id'] == row['id']]['length'].sum(), 2), datatype=XSD.decimal)))\n",
    "    g.add((Road, OSMO['hasMaxSpeed'], Literal(row['maxspeed'], datatype=XSD.integer)))\n",
    "    g.add((Road, OSMO['hasNumberOfLanes'], Literal(0 if row['lanes'] is None else row['lanes'], datatype=XSD.integer)))\n",
    "    g.add((Road, OSMO['hasSurface'], Literal(row['surface'], datatype=XSD.string)))\n",
    "    g.add((Road, OSMO['isLit'], Literal(True if row['lit'] == 'yes' else False, datatype=XSD.boolean)))\n",
    "    g.add((Road, OSMO['isOneWay'], Literal(True if row['oneway'] == 'yes' else False, datatype=XSD.boolean)))\n",
    "    g.add((Road, OSMO['isOvertakingAllowed'], Literal(True if row['overtaking'] == 'yes' else False, datatype=XSD.boolean)))"
   ],
   "metadata": {
    "collapsed": false,
    "pycharm": {
     "name": "#%%\n"
    }
   }
  },
  {
   "cell_type": "markdown",
   "source": [
    "# Write roads"
   ],
   "metadata": {
    "collapsed": false
   }
  },
  {
   "cell_type": "code",
   "execution_count": 172,
   "outputs": [
    {
     "name": "stdout",
     "output_type": "stream",
     "text": [
      "--- saving serialization ---\n",
      "CPU times: total: 1min 11s\n",
      "Wall time: 1min 13s\n"
     ]
    }
   ],
   "source": [
    "%%time\n",
    "# print all the data in the Turtle format\n",
    "print(\"--- saving serialization ---\")\n",
    "with open(savePath + 'roads.ttl', 'wb') as file:\n",
    "    file.write(g.serialize(format='turtle', encoding='utf-8'))"
   ],
   "metadata": {
    "collapsed": false,
    "pycharm": {
     "name": "#%%\n"
    }
   }
  }
 ],
 "metadata": {
  "kernelspec": {
   "display_name": "Python 3",
   "language": "python",
   "name": "python3"
  },
  "language_info": {
   "codemirror_mode": {
    "name": "ipython",
    "version": 2
   },
   "file_extension": ".py",
   "mimetype": "text/x-python",
   "name": "python",
   "nbconvert_exporter": "python",
   "pygments_lexer": "ipython2",
   "version": "2.7.6"
  }
 },
 "nbformat": 4,
 "nbformat_minor": 0
}