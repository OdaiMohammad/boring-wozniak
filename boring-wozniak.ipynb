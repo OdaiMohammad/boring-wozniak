{
 "cells": [
  {
   "cell_type": "markdown",
   "id": "b32e9de8",
   "metadata": {
    "pycharm": {
     "name": "#%% md\n"
    }
   },
   "source": [
    "## Table of contents\n",
    "1. [Table of contents](#table-of-contents)\n",
    "2. [Introduction](#Introduction)\n",
    "3. [Authors](#Authors)\n",
    "4. [Goal of this project](#goal-of-this-project)\n",
    "5. [Implementation](#implementation)"
   ]
  },
  {
   "cell_type": "markdown",
   "id": "a05c68f2",
   "metadata": {},
   "source": [
    "\n",
    "## Introduction\n",
    "This notebook\n",
    " is the authors' implementation for the group project developed during the [Database 2](https://en.didattica.unipd.it/off/2021/LM/IN/IN2547/004PD/INQ0091645/N0) course. Taught at the [Department of Information Engineering](https://www.unipd.it/en/dei) at the [University of Padova](https://www.unipd.it/en/) by professor [Gianmaria Silvello](mailto:silvello@dei.unipd.it)"
   ]
  },
  {
   "cell_type": "markdown",
   "id": "2736e71f",
   "metadata": {
    "pycharm": {
     "name": "#%% md\n"
    }
   },
   "source": [
    "## Authors\n",
    "* [Aliia Sultanova](mailto:aliia.sultanova@studenti.unipd.it)\n",
    "* [Michele Canale](mailto:michele.canale.1@studenti.unipd.it)\n",
    "* [Odai Mohammad](mailto:odai.mohammad@studenti.unipd.it)\n",
    "* [Yongxiang Ji](mailto:yongxiang.ji@studenti.unipd.it)"
   ]
  },
  {
   "cell_type": "markdown",
   "id": "4a034fc0",
   "metadata": {
    "pycharm": {
     "name": "#%% md\n"
    }
   },
   "source": [
    "## Goal of this project\n",
    "This project is aimed at modeling the transportation network in Italy. The data used is obtained from OpenStreetMap. This data can be obtained from Geofabrik's free download [server](https://download.geofabrik.de/index.html). Given that the data for the entire country is huge, we limit our data to a boundary containing the cities of Padova and Venice only."
   ]
  },
  {
   "cell_type": "markdown",
   "id": "154f1193",
   "metadata": {
    "pycharm": {
     "name": "#%% md\n"
    }
   },
   "source": [
    "## Implementation\n",
    "\n",
    "Let's start by setting up our paths for reading the map data and saving the graph."
   ]
  },
  {
   "cell_type": "code",
   "execution_count": 25,
   "id": "34721dda",
   "metadata": {
    "pycharm": {
     "name": "#%%\n"
    }
   },
   "outputs": [],
   "source": [
    "import os\n",
    "from pathlib import Path\n",
    "\n",
    "path = str(Path(os.path.abspath(os.getcwd())).absolute())\n",
    "\n",
    "savePath =  path + '\\\\graph\\\\'\n",
    "\n",
    "dataPath = path + '\\\\data\\\\padova-mestre-veneto.osm.pbf'"
   ]
  },
  {
   "cell_type": "markdown",
   "id": "02dd1622",
   "metadata": {},
   "source": [
    "First let's load the data and build the OSM object"
   ]
  },
  {
   "cell_type": "code",
   "execution_count": 26,
   "id": "521bea86",
   "metadata": {
    "pycharm": {
     "name": "#%%\n"
    }
   },
   "outputs": [],
   "source": [
    "from pyrosm import OSM\n",
    "\n",
    "osm = OSM(dataPath)"
   ]
  },
  {
   "cell_type": "markdown",
   "id": "28856a64",
   "metadata": {
    "pycharm": {
     "name": "#%% md\n"
    }
   },
   "source": [
    "## Road network\n",
    "\n",
    "PyrOSM provides the `get_network` API to read the road network.\n",
    "\n",
    "Let's use it to get our road network represented as nodes and roads between them."
   ]
  },
  {
   "cell_type": "code",
   "execution_count": 27,
   "id": "be27547a",
   "metadata": {
    "pycharm": {
     "name": "#%%\n"
    }
   },
   "outputs": [],
   "source": [
    "nodes, roads = osm.get_network(network_type='all', nodes=True)"
   ]
  },
  {
   "cell_type": "code",
   "execution_count": null,
   "id": "708788eb",
   "metadata": {
    "pycharm": {
     "name": "#%%\n"
    }
   },
   "outputs": [],
   "source": [
    "# Plot the road network on a map\n",
    "ax = roads.plot(figsize=(24, 24), color=\"black\")\n",
    "ax = nodes.plot(ax=ax, color=\"blue\", markersize=0.5)"
   ]
  },
  {
   "cell_type": "markdown",
   "id": "8f18c886",
   "metadata": {
    "pycharm": {
     "name": "#%% md\n"
    }
   },
   "source": [
    "### A closer look at the roads\n",
    "Let's take a closer look at the roads' data. We can see that roads have many attributes that we can use."
   ]
  },
  {
   "cell_type": "code",
   "execution_count": 14,
   "id": "8eca59a6",
   "metadata": {
    "pycharm": {
     "name": "#%%\n"
    }
   },
   "outputs": [
    {
     "name": "stdout",
     "output_type": "stream",
     "text": [
      "<class 'geopandas.geodataframe.GeoDataFrame'>\n",
      "RangeIndex: 392863 entries, 0 to 392862\n",
      "Data columns (total 43 columns):\n",
      " #   Column          Non-Null Count   Dtype   \n",
      "---  ------          --------------   -----   \n",
      " 0   access          15329 non-null   object  \n",
      " 1   area            15548 non-null   object  \n",
      " 2   bicycle         73487 non-null   object  \n",
      " 3   bicycle_road    43 non-null      object  \n",
      " 4   bridge          5547 non-null    object  \n",
      " 5   busway          230 non-null     object  \n",
      " 6   cycleway        2285 non-null    object  \n",
      " 7   est_width       735 non-null     object  \n",
      " 8   foot            43396 non-null   object  \n",
      " 9   footway         23442 non-null   object  \n",
      " 10  highway         392863 non-null  object  \n",
      " 11  int_ref         1366 non-null    object  \n",
      " 12  junction        17993 non-null   object  \n",
      " 13  lanes           55730 non-null   object  \n",
      " 14  lit             75760 non-null   object  \n",
      " 15  maxspeed        33121 non-null   object  \n",
      " 16  motorcar        702 non-null     object  \n",
      " 17  motorroad       121 non-null     object  \n",
      " 18  motor_vehicle   7674 non-null    object  \n",
      " 19  name            200822 non-null  object  \n",
      " 20  oneway          85835 non-null   object  \n",
      " 21  overtaking      829 non-null     object  \n",
      " 22  path            2230 non-null    object  \n",
      " 23  passing_places  60 non-null      object  \n",
      " 24  psv             777 non-null     object  \n",
      " 25  ref             23089 non-null   object  \n",
      " 26  service         23709 non-null   object  \n",
      " 27  segregated      29902 non-null   object  \n",
      " 28  sidewalk        27799 non-null   object  \n",
      " 29  smoothness      51782 non-null   object  \n",
      " 30  surface         213525 non-null  object  \n",
      " 31  tracktype       16562 non-null   object  \n",
      " 32  tunnel          1595 non-null    object  \n",
      " 33  width           51096 non-null   object  \n",
      " 34  id              392863 non-null  int64   \n",
      " 35  timestamp       392863 non-null  int64   \n",
      " 36  version         392863 non-null  int8    \n",
      " 37  tags            104541 non-null  object  \n",
      " 38  osm_type        392863 non-null  object  \n",
      " 39  geometry        392863 non-null  geometry\n",
      " 40  u               392863 non-null  int64   \n",
      " 41  v               392863 non-null  int64   \n",
      " 42  length          392863 non-null  float64 \n",
      "dtypes: float64(1), geometry(1), int64(4), int8(1), object(36)\n",
      "memory usage: 126.3+ MB\n"
     ]
    }
   ],
   "source": [
    "roads.info()"
   ]
  },
  {
   "cell_type": "markdown",
   "id": "a982b7f7",
   "metadata": {
    "pycharm": {
     "name": "#%% md\n"
    }
   },
   "source": [
    "### A closer look at the nodes\n",
    "How about the nodes' data? It's not as exciting as the roads' data, but it's essential to connect those roads together."
   ]
  },
  {
   "cell_type": "code",
   "execution_count": 16,
   "id": "28dee7c3",
   "metadata": {
    "pycharm": {
     "name": "#%%\n"
    }
   },
   "outputs": [
    {
     "name": "stdout",
     "output_type": "stream",
     "text": [
      "<class 'geopandas.geodataframe.GeoDataFrame'>\n",
      "RangeIndex: 357998 entries, 0 to 357997\n",
      "Data columns (total 8 columns):\n",
      " #   Column     Non-Null Count   Dtype   \n",
      "---  ------     --------------   -----   \n",
      " 0   lon        357998 non-null  float64 \n",
      " 1   lat        357998 non-null  float64 \n",
      " 2   tags       28206 non-null   object  \n",
      " 3   timestamp  357998 non-null  int8    \n",
      " 4   version    357998 non-null  int8    \n",
      " 5   changeset  357998 non-null  int8    \n",
      " 6   id         357998 non-null  int64   \n",
      " 7   geometry   357998 non-null  geometry\n",
      "dtypes: float64(2), geometry(1), int64(1), int8(3), object(1)\n",
      "memory usage: 14.7+ MB\n"
     ]
    }
   ],
   "source": [
    "nodes.info()"
   ]
  },
  {
   "cell_type": "markdown",
   "id": "ba2d2674",
   "metadata": {
    "pycharm": {
     "name": "#%% md\n"
    }
   },
   "source": [
    "### Inserting road network data into the graph\n",
    "\n",
    "#### Inserting nodes' data\n",
    "\n",
    "First we load the custom ontology that we've built"
   ]
  },
  {
   "cell_type": "code",
   "execution_count": 28,
   "id": "731f3835",
   "metadata": {
    "pycharm": {
     "name": "#%%\n"
    }
   },
   "outputs": [],
   "source": [
    "from rdflib import Graph, Literal, RDF, URIRef, Namespace, FOAF\n",
    "from rdflib.namespace import XSD\n",
    "\n",
    "OSMO = Namespace(\"http://www.dei.unipd.it/database2/cutomOSMOntology#\")"
   ]
  },
  {
   "cell_type": "markdown",
   "source": [
    "Plotting the road network gives us a nice visualization of what we're working with."
   ],
   "metadata": {
    "collapsed": false
   }
  },
  {
   "cell_type": "markdown",
   "id": "a3cbb6f1",
   "metadata": {
    "pycharm": {
     "name": "#%% md\n"
    }
   },
   "source": [
    "Initialize the graph"
   ]
  },
  {
   "cell_type": "code",
   "execution_count": 29,
   "id": "ba7f32ec",
   "metadata": {
    "pycharm": {
     "name": "#%%\n"
    }
   },
   "outputs": [],
   "source": [
    "g = Graph()\n",
    "\n",
    "g.bind(\"xsd\", XSD)\n",
    "g.bind(\"osmo\", OSMO)"
   ]
  },
  {
   "cell_type": "markdown",
   "id": "557061b4",
   "metadata": {
    "pycharm": {
     "name": "#%% md\n"
    }
   },
   "source": [
    "Add the nodes to the graph"
   ]
  },
  {
   "cell_type": "code",
   "execution_count": 30,
   "id": "f07a58c2",
   "metadata": {
    "pycharm": {
     "name": "#%%\n"
    }
   },
   "outputs": [
    {
     "name": "stdout",
     "output_type": "stream",
     "text": [
      "CPU times: total: 1min 3s\n",
      "Wall time: 1min 5s\n"
     ]
    }
   ],
   "source": [
    "%%time\n",
    "#measure execution time\n",
    "\n",
    "for index, row in nodes.iterrows():\n",
    "    # Create the node to add  to the Graph\n",
    "    # the node has the namespace + the movie id as URI\n",
    "    Node = URIRef(OSMO[\"node\"+str(row['id'])])\n",
    "    g.add((Node, RDF.type, OSMO.Node))\n",
    "    g.add((Node, OSMO['hasId'], Literal(row['id'], datatype=XSD.integer)))\n",
    "    g.add((Node, OSMO['hasLatitude'], Literal(row['lat'], datatype=XSD.decimal)))\n",
    "    g.add((Node, OSMO['hasLongitude'], Literal(row['lon'], datatype=XSD.decimal)))"
   ]
  },
  {
   "cell_type": "markdown",
   "id": "8dab2741",
   "metadata": {
    "pycharm": {
     "name": "#%% md\n"
    }
   },
   "source": [
    "Write the nodes' data in turtle format"
   ]
  },
  {
   "cell_type": "code",
   "execution_count": 31,
   "id": "8b456056",
   "metadata": {
    "pycharm": {
     "name": "#%%\n"
    }
   },
   "outputs": [
    {
     "name": "stdout",
     "output_type": "stream",
     "text": [
      "--- saving serialization ---\n",
      "CPU times: total: 55.3 s\n",
      "Wall time: 55.6 s\n"
     ]
    }
   ],
   "source": [
    "%%time\n",
    "# print all the data in the Turtle format\n",
    "print(\"--- saving serialization ---\")\n",
    "with open(savePath + 'nodes.ttl', 'wb') as file:\n",
    "    file.write(g.serialize(format='turtle', encoding='utf-8'))"
   ]
  },
  {
   "cell_type": "markdown",
   "id": "f5f847e8",
   "metadata": {
    "pycharm": {
     "name": "#%% md\n"
    }
   },
   "source": [
    "#### Inserting roads' data\n",
    "\n",
    "First we group roads by id and aggregate lengths and nodes"
   ]
  },
  {
   "cell_type": "code",
   "execution_count": 32,
   "id": "17c54c1d",
   "metadata": {
    "pycharm": {
     "name": "#%%\n"
    }
   },
   "outputs": [],
   "source": [
    "roads_grouped = roads.groupby('id').agg({'name':'first',\n",
    "                        'maxspeed':'first',\n",
    "                        'lanes':'first',\n",
    "                        'lit':'first',\n",
    "                        'oneway':'first',\n",
    "                        'surface':'first',\n",
    "                        'overtaking':'first',\n",
    "                        'bicycle_road':'first',\n",
    "                        'footway':'first',\n",
    "                        'motorroad':'first',\n",
    "                        'busway':'first',\n",
    "                             'length': sum,\n",
    "                             'u': list,\n",
    "                             'v': 'last' }).reset_index()"
   ]
  },
  {
   "cell_type": "markdown",
   "id": "b95f0b6f",
   "metadata": {
    "pycharm": {
     "name": "#%% md\n"
    }
   },
   "source": [
    "#### Initialize graph and insert roads"
   ]
  },
  {
   "cell_type": "code",
   "execution_count": 33,
   "id": "414edce5",
   "metadata": {
    "pycharm": {
     "name": "#%%\n"
    }
   },
   "outputs": [],
   "source": [
    "g = Graph()\n",
    "\n",
    "g.bind(\"xsd\", XSD)\n",
    "g.bind(\"osmo\", OSMO)"
   ]
  },
  {
   "cell_type": "markdown",
   "id": "9c9d91b9",
   "metadata": {
    "pycharm": {
     "name": "#%% md\n"
    }
   },
   "source": [
    "Now we can insert the roads and join them to their nodes"
   ]
  },
  {
   "cell_type": "code",
   "execution_count": 34,
   "id": "d69bc26d",
   "metadata": {
    "pycharm": {
     "name": "#%%\n"
    }
   },
   "outputs": [],
   "source": [
    "for index, row in roads_grouped.iterrows():\n",
    "    # Create the node to add to the Graph\n",
    "    # the node has the namespace + the movie id as URI\n",
    "    Road = URIRef(OSMO[\"road\"+str(row['id'])])\n",
    "\n",
    "    for uindex, nodeId in enumerate(row['u']):\n",
    "        Node = URIRef(OSMO[\"node\"+str(nodeId)])\n",
    "\n",
    "        if uindex == 0:\n",
    "            g.add((Road, OSMO['hasStartNode'], Node))\n",
    "        else:\n",
    "            g.add((Road, OSMO['hasMiddleNode'], Node))\n",
    "\n",
    "    endNode = URIRef(OSMO[\"node\"+str(row['v'])])\n",
    "    g.add((Road, OSMO['hasEndNode'], endNode))\n",
    "    g.add((Road, RDF.type, OSMO.Road))\n",
    "    g.add((Road, OSMO['hasId'], Literal(row['id'], datatype=XSD.integer)))\n",
    "    g.add((Road, OSMO['hasName'], Literal(row['name'], datatype=XSD.string)))\n",
    "    g.add((Road, OSMO['hasLength'], Literal(round(row['length'], 2), datatype=XSD.decimal)))\n",
    "    g.add((Road, OSMO['hasMaxSpeed'], Literal(row['maxspeed'], datatype=XSD.string)))\n",
    "    g.add((Road, OSMO['hasNumberOfLanes'], Literal(0 if row['lanes'] is None else row['lanes'], datatype=XSD.string)))\n",
    "    g.add((Road, OSMO['hasSurface'], Literal(row['surface'], datatype=XSD.string)))\n",
    "    g.add((Road, OSMO['isLit'], Literal(True if row['lit'] == 'yes' else False, datatype=XSD.boolean)))\n",
    "    g.add((Road, OSMO['isOneWay'], Literal(True if row['oneway'] == 'yes' else False, datatype=XSD.boolean)))\n",
    "    g.add((Road, OSMO['isOvertakingAllowed'], Literal(True if row['overtaking'] == 'yes' else False, datatype=XSD.boolean)))\n",
    "    g.add((Road, OSMO['isBicycleRoad'], Literal(False if row['bicycle_road'] is None else True, datatype=XSD.boolean)))\n",
    "    g.add((Road, OSMO['isFootRoad'], Literal(False if row['footway'] is None else True, datatype=XSD.boolean)))\n",
    "    g.add((Road, OSMO['isMotorRoad'], Literal(False if row['motorroad'] is None else True, datatype=XSD.boolean)))\n",
    "    g.add((Road, OSMO['isBusRoad'], Literal(False if row['busway'] is None else True, datatype=XSD.boolean)))"
   ]
  },
  {
   "cell_type": "markdown",
   "id": "d5c32a22",
   "metadata": {
    "pycharm": {
     "name": "#%% md\n"
    }
   },
   "source": [
    "Finally, let's write the roads data"
   ]
  },
  {
   "cell_type": "code",
   "execution_count": 35,
   "id": "9a0107b4",
   "metadata": {
    "pycharm": {
     "name": "#%%\n"
    }
   },
   "outputs": [
    {
     "name": "stdout",
     "output_type": "stream",
     "text": [
      "--- saving serialization ---\n",
      "CPU times: total: 51.7 s\n",
      "Wall time: 51.8 s\n"
     ]
    }
   ],
   "source": [
    "%%time\n",
    "# print all the data in the Turtle format\n",
    "print(\"--- saving serialization ---\")\n",
    "with open(savePath + 'roads.ttl', 'wb') as file:\n",
    "    file.write(g.serialize(format='turtle', encoding='utf-8'))"
   ]
  },
  {
   "cell_type": "markdown",
   "id": "e909530c",
   "metadata": {
    "pycharm": {
     "name": "#%% md\n"
    }
   },
   "source": [
    "## Cities and Buildings\n",
    "\n",
    "### Cities\n",
    "OSM data doesn't have cities explicitly defined. But we can extract them from the addresses in the building's data.\n",
    "\n",
    "PyrOSM provides the `get_buildings` API to read the buildings.\n",
    "\n",
    "Let's use it to get our buildings and load them in the graph."
   ]
  },
  {
   "cell_type": "code",
   "execution_count": 36,
   "id": "ce359b5a",
   "metadata": {
    "pycharm": {
     "name": "#%%\n"
    }
   },
   "outputs": [],
   "source": [
    "buildings = osm.get_buildings()"
   ]
  },
  {
   "cell_type": "code",
   "execution_count": 37,
   "id": "07ad2bfd",
   "metadata": {
    "pycharm": {
     "name": "#%%\n"
    }
   },
   "outputs": [],
   "source": [
    "cities = buildings[buildings['addr:city'].notnull()]['addr:city'].unique()\n",
    "cities = list(cities)"
   ]
  },
  {
   "cell_type": "markdown",
   "id": "db2cc0ee",
   "metadata": {
    "pycharm": {
     "name": "#%% md\n"
    }
   },
   "source": [
    "Inserting the cities into the graph.\n",
    "\n",
    "First, initialize the graph."
   ]
  },
  {
   "cell_type": "code",
   "execution_count": 38,
   "id": "189e778b",
   "metadata": {
    "pycharm": {
     "name": "#%%\n"
    }
   },
   "outputs": [],
   "source": [
    "g = Graph()\n",
    "\n",
    "g.bind(\"xsd\", XSD)\n",
    "g.bind(\"osmo\", OSMO)"
   ]
  },
  {
   "cell_type": "markdown",
   "id": "1164caa8",
   "metadata": {
    "pycharm": {
     "name": "#%% md\n"
    }
   },
   "source": [
    "Now insert the cities into the graph"
   ]
  },
  {
   "cell_type": "code",
   "execution_count": 39,
   "id": "c5d4737f",
   "metadata": {
    "pycharm": {
     "name": "#%%\n"
    }
   },
   "outputs": [
    {
     "name": "stdout",
     "output_type": "stream",
     "text": [
      "CPU times: total: 0 ns\n",
      "Wall time: 4.01 ms\n"
     ]
    }
   ],
   "source": [
    "%%time\n",
    "#measure execution time\n",
    "\n",
    "for index, city in enumerate(cities):\n",
    "    # Create the node to add  to the Graph\n",
    "    # the node has the namespace + the movie id as URI\n",
    "    cityId = index+1001\n",
    "    City = URIRef(OSMO[\"city\"+str(cityId)])\n",
    "    g.add((City, RDF.type, OSMO.City))\n",
    "    g.add((City, OSMO['hasId'], Literal(cityId, datatype=XSD.integer)))\n",
    "    g.add((City, OSMO['hasName'], Literal(city, datatype=XSD.string)))"
   ]
  },
  {
   "cell_type": "markdown",
   "id": "62f8b0f2",
   "metadata": {
    "pycharm": {
     "name": "#%% md\n"
    }
   },
   "source": [
    "Writing the cities data"
   ]
  },
  {
   "cell_type": "code",
   "execution_count": 40,
   "id": "838f14ca",
   "metadata": {
    "pycharm": {
     "name": "#%%\n"
    }
   },
   "outputs": [
    {
     "name": "stdout",
     "output_type": "stream",
     "text": [
      "--- saving serialization ---\n",
      "CPU times: total: 0 ns\n",
      "Wall time: 12 ms\n"
     ]
    }
   ],
   "source": [
    "%%time\n",
    "# print all the data in the Turtle format\n",
    "print(\"--- saving serialization ---\")\n",
    "with open(savePath + 'cities.ttl', 'wb') as file:\n",
    "    file.write(g.serialize(format='turtle', encoding='utf-8'))"
   ]
  },
  {
   "cell_type": "markdown",
   "id": "b3270d7a",
   "metadata": {
    "pycharm": {
     "name": "#%% md\n"
    }
   },
   "source": [
    "### Buildings\n",
    "\n",
    "Let's bring our attention back to the buildings.\n",
    "\n",
    "Plotting the buildings gives us a nice visualization of what we're working with."
   ]
  },
  {
   "cell_type": "code",
   "execution_count": null,
   "id": "2f6db638",
   "metadata": {
    "pycharm": {
     "name": "#%%\n"
    }
   },
   "outputs": [],
   "source": [
    "buildings.plot(figsize=(24,24))"
   ]
  },
  {
   "cell_type": "markdown",
   "id": "86479c63",
   "metadata": {
    "pycharm": {
     "name": "#%% md\n"
    }
   },
   "source": [
    "### A closer look at the buildings\n",
    "Let's take a closer look at the buildings' data. We can see that buildings have many attributes that we can use."
   ]
  },
  {
   "cell_type": "code",
   "execution_count": 44,
   "id": "23686a6f",
   "metadata": {
    "pycharm": {
     "name": "#%%\n"
    }
   },
   "outputs": [
    {
     "name": "stdout",
     "output_type": "stream",
     "text": [
      "<class 'geopandas.geodataframe.GeoDataFrame'>\n",
      "Int64Index: 1423 entries, 10 to 327401\n",
      "Data columns (total 39 columns):\n",
      " #   Column              Non-Null Count  Dtype   \n",
      "---  ------              --------------  -----   \n",
      " 0   addr:city           302 non-null    object  \n",
      " 1   addr:country        21 non-null     object  \n",
      " 2   addr:housenumber    349 non-null    object  \n",
      " 3   addr:housename      14 non-null     object  \n",
      " 4   addr:postcode       288 non-null    object  \n",
      " 5   addr:place          27 non-null     object  \n",
      " 6   addr:street         392 non-null    object  \n",
      " 7   email               41 non-null     object  \n",
      " 8   name                1423 non-null   object  \n",
      " 9   opening_hours       20 non-null     object  \n",
      " 10  operator            41 non-null     object  \n",
      " 11  phone               68 non-null     object  \n",
      " 12  ref                 1 non-null      object  \n",
      " 13  url                 2 non-null      object  \n",
      " 14  website             129 non-null    object  \n",
      " 15  building            1423 non-null   object  \n",
      " 16  amenity             0 non-null      object  \n",
      " 17  building:flats      1 non-null      object  \n",
      " 18  building:levels     250 non-null    object  \n",
      " 19  building:material   20 non-null     object  \n",
      " 20  building:min_level  2 non-null      object  \n",
      " 21  building:use        5 non-null      object  \n",
      " 22  craft               0 non-null      object  \n",
      " 23  height              75 non-null     object  \n",
      " 24  internet_access     23 non-null     object  \n",
      " 25  landuse             2 non-null      object  \n",
      " 26  levels              0 non-null      object  \n",
      " 27  office              21 non-null     object  \n",
      " 28  shop                0 non-null      object  \n",
      " 29  source              17 non-null     object  \n",
      " 30  start_date          67 non-null     object  \n",
      " 31  wikipedia           247 non-null    object  \n",
      " 32  id                  1423 non-null   int64   \n",
      " 33  timestamp           1423 non-null   int64   \n",
      " 34  version             1423 non-null   int8    \n",
      " 35  geometry            1423 non-null   geometry\n",
      " 36  tags                851 non-null    object  \n",
      " 37  osm_type            1423 non-null   object  \n",
      " 38  changeset           95 non-null     float64 \n",
      "dtypes: float64(1), geometry(1), int64(2), int8(1), object(34)\n",
      "memory usage: 435.0+ KB\n"
     ]
    }
   ],
   "source": [
    "buildings.info()"
   ]
  },
  {
   "cell_type": "markdown",
   "id": "4e8c1922",
   "metadata": {
    "pycharm": {
     "name": "#%% md\n"
    }
   },
   "source": [
    "### Inserting buildings data into the graph\n",
    "\n",
    "First we remove unwanted buildings. Building without names are not useful for our queries. And shops and amenities will be inserted later."
   ]
  },
  {
   "cell_type": "code",
   "execution_count": 41,
   "id": "976cfb7d",
   "metadata": {
    "pycharm": {
     "name": "#%%\n"
    }
   },
   "outputs": [],
   "source": [
    "buildings = buildings[buildings['name'].notnull()]\n",
    "buildings = buildings[buildings['amenity'].isnull()]\n",
    "buildings = buildings[buildings['shop'].isnull()]"
   ]
  },
  {
   "cell_type": "markdown",
   "id": "088af6d6",
   "metadata": {
    "pycharm": {
     "name": "#%% md\n"
    }
   },
   "source": [
    "Now we initialize the grapgh"
   ]
  },
  {
   "cell_type": "code",
   "execution_count": 42,
   "id": "6f4e487c",
   "metadata": {
    "pycharm": {
     "name": "#%%\n"
    }
   },
   "outputs": [],
   "source": [
    "g = Graph()\n",
    "\n",
    "g.bind(\"xsd\", XSD)\n",
    "g.bind(\"osmo\", OSMO)"
   ]
  },
  {
   "cell_type": "markdown",
   "id": "aa71527c",
   "metadata": {
    "pycharm": {
     "name": "#%% md\n"
    }
   },
   "source": [
    "Now we add the buildings to the graph. We also join buildings with cities in the process."
   ]
  },
  {
   "cell_type": "code",
   "execution_count": 43,
   "id": "e0aa9397",
   "metadata": {
    "pycharm": {
     "name": "#%%\n"
    }
   },
   "outputs": [
    {
     "name": "stdout",
     "output_type": "stream",
     "text": [
      "CPU times: total: 1.19 s\n",
      "Wall time: 1.19 s\n"
     ]
    }
   ],
   "source": [
    "%%time\n",
    "#measure execution time\n",
    "\n",
    "for index, row in buildings.iterrows():\n",
    "    # Create the node to add to the Graph\n",
    "    # the node has 'building' + id as URI\n",
    "    Building = URIRef(OSMO[\"building\"+str(row['id'])])\n",
    "\n",
    "    g.add((Building, RDF.type, OSMO.Building))\n",
    "    g.add((Building, OSMO['hasId'], Literal(row['id'], datatype=XSD.integer)))\n",
    "    g.add((Building, OSMO['hasName'], Literal(row['name'], datatype=XSD.string)))\n",
    "    g.add((Building, OSMO['hasStreetName'], Literal(row['addr:street'], datatype=XSD.string)))\n",
    "    g.add((Building, OSMO['hasCivilNumber'], Literal(row['addr:housenumber'], datatype=XSD.string)))\n",
    "    g.add((Building, OSMO['hasPostCode'], Literal(00000 if row['addr:postcode'] is None else row['addr:postcode'], datatype=XSD.integer)))\n",
    "    g.add((Building, OSMO['hasOpeningHours'], Literal(row['opening_hours'], datatype=XSD.string)))\n",
    "    g.add((Building, OSMO['hasEmail'], Literal(row['email'], datatype=XSD.string)))\n",
    "    g.add((Building, OSMO['hasWebsite'], Literal(row['website'], datatype=XSD.string)))\n",
    "    g.add((Building, OSMO['hasOperator'], Literal(row['operator'], datatype=XSD.string)))\n",
    "    g.add((Building, OSMO['hasPhone'], Literal(row['phone'], datatype=XSD.string)))\n",
    "    g.add((Building, OSMO['hasNUmberOfFlats'], Literal(row['building:flats'], datatype=XSD.string)))\n",
    "    g.add((Building, OSMO['hasNUmberOfLevels'], Literal(row['building:levels'], datatype=XSD.string)))\n",
    "    g.add((Building, OSMO['hasHeight'], Literal(row['height'], datatype=XSD.string)))\n",
    "    g.add((Building, OSMO['hasUse'], Literal(row['height'], datatype=XSD.string)))\n",
    "\n",
    "    try:\n",
    "        City = URIRef(OSMO[\"city\"+str(cities.index(row['addr:city']) + 1001)])\n",
    "        g.add((Building, OSMO['isInCity'], City))\n",
    "        road = roads_grouped[roads_grouped['name'] == row['addr:street']].iloc[0]\n",
    "        Road = URIRef(OSMO[\"road\"+str(road.id)])\n",
    "        g.add((Building, OSMO['isOnRoad'], Road))\n",
    "        g.add((Road, OSMO['isInCity'], City))\n",
    "    except:\n",
    "        pass"
   ]
  },
  {
   "cell_type": "markdown",
   "id": "c005601f",
   "metadata": {
    "pycharm": {
     "name": "#%% md\n"
    }
   },
   "source": [
    "Let's write the buildings data"
   ]
  },
  {
   "cell_type": "code",
   "execution_count": 44,
   "id": "fb0eea80",
   "metadata": {
    "pycharm": {
     "name": "#%%\n"
    }
   },
   "outputs": [
    {
     "name": "stdout",
     "output_type": "stream",
     "text": [
      "--- saving serialization ---\n",
      "CPU times: total: 766 ms\n",
      "Wall time: 784 ms\n"
     ]
    }
   ],
   "source": [
    "%%time\n",
    "# print all the data in the Turtle format\n",
    "print(\"--- saving serialization ---\")\n",
    "with open(savePath + 'buildings.ttl', 'wb') as file:\n",
    "    file.write(g.serialize(format='turtle', encoding='utf-8'))"
   ]
  },
  {
   "cell_type": "markdown",
   "id": "606b9dc9",
   "metadata": {
    "pycharm": {
     "name": "#%% md\n"
    }
   },
   "source": [
    "## Points of Interest (pois)\n",
    "\n",
    "PyrOSM provides the `get_pois` API to read the points of interests.\n",
    "\n",
    "Let's use it to get our pois."
   ]
  },
  {
   "cell_type": "code",
   "execution_count": 45,
   "id": "69110938",
   "metadata": {
    "pycharm": {
     "name": "#%%\n"
    }
   },
   "outputs": [
    {
     "name": "stderr",
     "output_type": "stream",
     "text": [
      "C:\\Users\\ASUS\\anaconda3\\envs\\boring-wozniak\\lib\\site-packages\\pyrosm\\pyrosm.py:576: ShapelyDeprecationWarning: The array interface is deprecated and will no longer work in Shapely 2.0. Convert the '.coords' to a numpy array instead.\n",
      "  gdf = get_poi_data(\n"
     ]
    }
   ],
   "source": [
    "pois = osm.get_pois()"
   ]
  },
  {
   "cell_type": "code",
   "execution_count": null,
   "id": "ef55c2b5",
   "metadata": {
    "pycharm": {
     "name": "#%%\n"
    }
   },
   "outputs": [],
   "source": [
    "pois[\"poi_type\"] = pois[\"amenity\"]\n",
    "pois[\"poi_type\"] = pois[\"poi_type\"].fillna(pois[\"shop\"])\n",
    "\n",
    "ax = pois.plot(column='poi_type', markersize=3, figsize=(12,12), legend=True, legend_kwds=dict(loc='upper left', ncol=5, bbox_to_anchor=(1, 1)))"
   ]
  },
  {
   "cell_type": "markdown",
   "id": "56dfd8a1",
   "metadata": {
    "pycharm": {
     "name": "#%% md\n"
    }
   },
   "source": [
    "### A closer look at the pois\n",
    "Let's take a closer look at the pois data. We can see that pois have many attributes that we can use."
   ]
  },
  {
   "cell_type": "code",
   "execution_count": 56,
   "id": "54c12a4b",
   "metadata": {
    "pycharm": {
     "name": "#%%\n"
    }
   },
   "outputs": [
    {
     "name": "stdout",
     "output_type": "stream",
     "text": [
      "<class 'geopandas.geodataframe.GeoDataFrame'>\n",
      "RangeIndex: 21054 entries, 0 to 21053\n",
      "Data columns (total 77 columns):\n",
      " #   Column            Non-Null Count  Dtype   \n",
      "---  ------            --------------  -----   \n",
      " 0   timestamp         21054 non-null  int64   \n",
      " 1   lon               12620 non-null  float32 \n",
      " 2   version           21054 non-null  int8    \n",
      " 3   tags              10565 non-null  object  \n",
      " 4   id                21054 non-null  int64   \n",
      " 5   lat               12620 non-null  float32 \n",
      " 6   changeset         12735 non-null  float64 \n",
      " 7   addr:city         2448 non-null   object  \n",
      " 8   addr:country      390 non-null    object  \n",
      " 9   addr:housenumber  4073 non-null   object  \n",
      " 10  addr:housename    28 non-null     object  \n",
      " 11  addr:postcode     2918 non-null   object  \n",
      " 12  addr:place        951 non-null    object  \n",
      " 13  addr:street       3516 non-null   object  \n",
      " 14  email             673 non-null    object  \n",
      " 15  name              8103 non-null   object  \n",
      " 16  opening_hours     1398 non-null   object  \n",
      " 17  operator          1400 non-null   object  \n",
      " 18  phone             1739 non-null   object  \n",
      " 19  ref               400 non-null    object  \n",
      " 20  url               17 non-null     object  \n",
      " 21  website           1416 non-null   object  \n",
      " 22  amenity           16798 non-null  object  \n",
      " 23  atm               133 non-null    object  \n",
      " 24  bicycle_parking   278 non-null    object  \n",
      " 25  bicycle_rental    2 non-null      object  \n",
      " 26  bar               17 non-null     object  \n",
      " 27  building          1393 non-null   object  \n",
      " 28  building:levels   80 non-null     object  \n",
      " 29  drinking_water    14 non-null     object  \n",
      " 30  fountain          5 non-null      object  \n",
      " 31  fuel              4 non-null      object  \n",
      " 32  gambling          2 non-null      object  \n",
      " 33  internet_access   244 non-null    object  \n",
      " 34  office            5 non-null      object  \n",
      " 35  parking           1918 non-null   object  \n",
      " 36  pub               1 non-null      object  \n",
      " 37  restaurant        2 non-null      object  \n",
      " 38  social_facility   9 non-null      object  \n",
      " 39  source            261 non-null    object  \n",
      " 40  start_date        162 non-null    object  \n",
      " 41  wikipedia         329 non-null    object  \n",
      " 42  bicycle           150 non-null    object  \n",
      " 43  books             3 non-null      object  \n",
      " 44  butcher           1 non-null      object  \n",
      " 45  car               3 non-null      object  \n",
      " 46  clothes           39 non-null     object  \n",
      " 47  craft             5 non-null      object  \n",
      " 48  furniture         1 non-null      object  \n",
      " 49  massage           1 non-null      object  \n",
      " 50  organic           40 non-null     object  \n",
      " 51  pastry            1 non-null      object  \n",
      " 52  religion          566 non-null    object  \n",
      " 53  second_hand       15 non-null     object  \n",
      " 54  shop              3006 non-null   object  \n",
      " 55  swimming_pool     1 non-null      object  \n",
      " 56  tobacco           4 non-null      object  \n",
      " 57  video             1 non-null      object  \n",
      " 58  attraction        4 non-null      object  \n",
      " 59  guest_house       5 non-null      object  \n",
      " 60  information       230 non-null    object  \n",
      " 61  museum            7 non-null      object  \n",
      " 62  tourism           1331 non-null   object  \n",
      " 63  viewpoint         6 non-null      object  \n",
      " 64  geometry          21054 non-null  geometry\n",
      " 65  osm_type          21054 non-null  object  \n",
      " 66  fast_food         1 non-null      object  \n",
      " 67  hospital          1 non-null      object  \n",
      " 68  landuse           39 non-null     object  \n",
      " 69  agrarian          1 non-null      object  \n",
      " 70  kiosk             1 non-null      object  \n",
      " 71  model             2 non-null      object  \n",
      " 72  motorcycle        1 non-null      object  \n",
      " 73  water             5 non-null      object  \n",
      " 74  wholesale         2 non-null      object  \n",
      " 75  hotel             1 non-null      object  \n",
      " 76  zoo               1 non-null      object  \n",
      "dtypes: float32(2), float64(1), geometry(1), int64(2), int8(1), object(70)\n",
      "memory usage: 12.1+ MB\n"
     ]
    }
   ],
   "source": [
    "pois.info()"
   ]
  },
  {
   "cell_type": "markdown",
   "id": "1ee08777",
   "metadata": {
    "pycharm": {
     "name": "#%% md\n"
    }
   },
   "source": [
    "Now we can insert them into the RDF. We will use `get_pois` again to filter amenities from shops and insert them separately."
   ]
  },
  {
   "cell_type": "markdown",
   "source": [
    "Plotting the pois gives us a nice visualization of what we're working with."
   ],
   "metadata": {
    "collapsed": false
   }
  },
  {
   "cell_type": "code",
   "execution_count": 46,
   "id": "be72eea1",
   "metadata": {
    "pycharm": {
     "name": "#%%\n"
    }
   },
   "outputs": [
    {
     "name": "stderr",
     "output_type": "stream",
     "text": [
      "C:\\Users\\ASUS\\anaconda3\\envs\\boring-wozniak\\lib\\site-packages\\pyrosm\\pyrosm.py:576: ShapelyDeprecationWarning: The array interface is deprecated and will no longer work in Shapely 2.0. Convert the '.coords' to a numpy array instead.\n",
      "  gdf = get_poi_data(\n"
     ]
    }
   ],
   "source": [
    "amenities = osm.get_pois(custom_filter={\"amenity\": True})\n",
    "amenities = amenities[amenities['name'].notnull()]"
   ]
  },
  {
   "cell_type": "markdown",
   "id": "114b0889",
   "metadata": {
    "pycharm": {
     "name": "#%% md\n"
    }
   },
   "source": [
    "Now we initialize the graph"
   ]
  },
  {
   "cell_type": "code",
   "execution_count": 47,
   "id": "41143717",
   "metadata": {
    "pycharm": {
     "name": "#%%\n"
    }
   },
   "outputs": [],
   "source": [
    "# Create the graph\n",
    "g = Graph()\n",
    "\n",
    "# Bind the namespaces to a prefix\n",
    "g.bind(\"xsd\", XSD)\n",
    "g.bind(\"osmo\", OSMO)"
   ]
  },
  {
   "cell_type": "code",
   "execution_count": 48,
   "id": "c602ba2a",
   "metadata": {
    "pycharm": {
     "name": "#%%\n"
    }
   },
   "outputs": [
    {
     "name": "stdout",
     "output_type": "stream",
     "text": [
      "CPU times: total: 3.41 s\n",
      "Wall time: 3.4 s\n"
     ]
    }
   ],
   "source": [
    "%%time\n",
    "#measure execution time\n",
    "\n",
    "for index, row in amenities.iterrows():\n",
    "    # Create the node to add to the Graph\n",
    "    # the node has 'amenity' + id as URI\n",
    "    Amenity = URIRef(OSMO[\"amenity\"+str(row['id'])])\n",
    "\n",
    "    g.add((Amenity, RDF.type, OSMO.Amenity))\n",
    "    g.add((Amenity, OSMO['hasId'], Literal(row['id'], datatype=XSD.integer)))\n",
    "    g.add((Amenity, OSMO['hasName'], Literal(row['name'], datatype=XSD.string)))\n",
    "    g.add((Amenity, OSMO['hasStreetName'], Literal(row['addr:street'], datatype=XSD.string)))\n",
    "    g.add((Amenity, OSMO['hasCivilNumber'], Literal(row['addr:housenumber'], datatype=XSD.string)))\n",
    "    g.add((Amenity, OSMO['hasPostCode'], Literal(0 if row['addr:postcode'] is None else row['addr:postcode'], datatype=XSD.integer)))\n",
    "    g.add((Amenity, OSMO['hasLatitude'], Literal(row['lat'], datatype=XSD.decimal)))\n",
    "    g.add((Amenity, OSMO['hasLongitude'], Literal(row['lon'], datatype=XSD.decimal)))\n",
    "    g.add((Amenity, OSMO['hasUse'], Literal(row['amenity'], datatype=XSD.string)))\n",
    "    g.add((Amenity, OSMO['website'], Literal(row['website'], datatype=XSD.string)))\n",
    "\n",
    "    try:\n",
    "        City = URIRef(OSMO[\"city\"+str(cities.index(row['addr:city']) + 1001)])\n",
    "        g.add((Amenity, OSMO['isInCity'], City))\n",
    "        road = roads_grouped[roads_grouped['name'] == row['addr:street']].iloc[0]\n",
    "        Road = URIRef(OSMO[\"road\"+str(road.id)])\n",
    "        g.add((Amenity, OSMO['isOnRoad'], Road))\n",
    "        g.add((Road, OSMO['isInCity'], City))\n",
    "    except:\n",
    "        pass"
   ]
  },
  {
   "cell_type": "markdown",
   "id": "8e66fa43",
   "metadata": {
    "pycharm": {
     "name": "#%% md\n"
    }
   },
   "source": [
    "Write the amenity data"
   ]
  },
  {
   "cell_type": "code",
   "execution_count": 49,
   "id": "24cee937",
   "metadata": {
    "pycharm": {
     "name": "#%%\n"
    }
   },
   "outputs": [
    {
     "name": "stdout",
     "output_type": "stream",
     "text": [
      "--- saving serialization ---\n",
      "CPU times: total: 1.84 s\n",
      "Wall time: 1.89 s\n"
     ]
    }
   ],
   "source": [
    "%%time\n",
    "# print all the data in the Turtle format\n",
    "print(\"--- saving serialization ---\")\n",
    "with open(savePath + 'amenity.ttl', 'wb') as file:\n",
    "    file.write(g.serialize(format='turtle', encoding='utf-8'))"
   ]
  },
  {
   "cell_type": "markdown",
   "id": "c8db8bff",
   "metadata": {
    "pycharm": {
     "name": "#%% md\n"
    }
   },
   "source": [
    "We repeat the steps for the shops data"
   ]
  },
  {
   "cell_type": "code",
   "execution_count": 54,
   "id": "6b537335",
   "metadata": {
    "pycharm": {
     "name": "#%%\n"
    }
   },
   "outputs": [],
   "source": [
    "# Create the graph\n",
    "g = Graph()\n",
    "\n",
    "# Bind the namespaces to a prefix\n",
    "g.bind(\"xsd\", XSD)\n",
    "g.bind(\"osmo\", OSMO)"
   ]
  },
  {
   "cell_type": "code",
   "execution_count": 55,
   "id": "f3b5c7a7",
   "metadata": {
    "pycharm": {
     "name": "#%%\n"
    }
   },
   "outputs": [
    {
     "name": "stdout",
     "output_type": "stream",
     "text": [
      "<class 'geopandas.geodataframe.GeoDataFrame'>\n",
      "Int64Index: 2289 entries, 0 to 3006\n",
      "Data columns (total 39 columns):\n",
      " #   Column            Non-Null Count  Dtype   \n",
      "---  ------            --------------  -----   \n",
      " 0   version           2289 non-null   int8    \n",
      " 1   lat               2101 non-null   float32 \n",
      " 2   changeset         2106 non-null   float64 \n",
      " 3   timestamp         2289 non-null   int64   \n",
      " 4   id                2289 non-null   int64   \n",
      " 5   lon               2101 non-null   float32 \n",
      " 6   tags              1158 non-null   object  \n",
      " 7   addr:city         909 non-null    object  \n",
      " 8   addr:country      109 non-null    object  \n",
      " 9   addr:housenumber  1350 non-null   object  \n",
      " 10  addr:housename    4 non-null      object  \n",
      " 11  addr:postcode     919 non-null    object  \n",
      " 12  addr:place        209 non-null    object  \n",
      " 13  addr:street       1226 non-null   object  \n",
      " 14  email             231 non-null    object  \n",
      " 15  name              2289 non-null   object  \n",
      " 16  opening_hours     530 non-null    object  \n",
      " 17  operator          181 non-null    object  \n",
      " 18  phone             599 non-null    object  \n",
      " 19  ref               1 non-null      object  \n",
      " 20  url               1 non-null      object  \n",
      " 21  website           406 non-null    object  \n",
      " 22  books             2 non-null      object  \n",
      " 23  butcher           1 non-null      object  \n",
      " 24  clothes           33 non-null     object  \n",
      " 25  craft             3 non-null      object  \n",
      " 26  furniture         1 non-null      object  \n",
      " 27  massage           1 non-null      object  \n",
      " 28  organic           28 non-null     object  \n",
      " 29  pastry            0 non-null      object  \n",
      " 30  religion          1 non-null      object  \n",
      " 31  second_hand       15 non-null     object  \n",
      " 32  shop              2289 non-null   object  \n",
      " 33  tobacco           1 non-null      object  \n",
      " 34  geometry          2289 non-null   geometry\n",
      " 35  osm_type          2289 non-null   object  \n",
      " 36  agrarian          1 non-null      object  \n",
      " 37  kiosk             0 non-null      object  \n",
      " 38  wholesale         2 non-null      object  \n",
      "dtypes: float32(2), float64(1), geometry(1), int64(2), int8(1), object(32)\n",
      "memory usage: 681.8+ KB\n"
     ]
    },
    {
     "name": "stderr",
     "output_type": "stream",
     "text": [
      "C:\\Users\\ASUS\\anaconda3\\envs\\boring-wozniak\\lib\\site-packages\\pyrosm\\pyrosm.py:576: ShapelyDeprecationWarning: The array interface is deprecated and will no longer work in Shapely 2.0. Convert the '.coords' to a numpy array instead.\n",
      "  gdf = get_poi_data(\n"
     ]
    }
   ],
   "source": [
    "# Filter shops\n",
    "shops = osm.get_pois(custom_filter={\"shop\": True})\n",
    "shops = shops[shops['name'].notnull()]\n",
    "shops.info()"
   ]
  },
  {
   "cell_type": "code",
   "execution_count": 56,
   "id": "00661f3e",
   "metadata": {
    "pycharm": {
     "name": "#%%\n"
    }
   },
   "outputs": [
    {
     "name": "stdout",
     "output_type": "stream",
     "text": [
      "CPU times: total: 2.47 s\n",
      "Wall time: 2.7 s\n"
     ]
    }
   ],
   "source": [
    "%%time\n",
    "#measure execution time\n",
    "\n",
    "for index, row in shops.iterrows():\n",
    "    # Create the node to add to the Graph\n",
    "    # the node has 'shop' + id as URI\n",
    "    Shop = URIRef(OSMO[\"shop\"+str(row['id'])])\n",
    "\n",
    "    g.add((Shop, RDF.type, OSMO.Shop))\n",
    "    g.add((Shop, OSMO['hasId'], Literal(row['id'], datatype=XSD.integer)))\n",
    "    g.add((Shop, OSMO['hasName'], Literal(row['name'], datatype=XSD.string)))\n",
    "    g.add((Shop, OSMO['hasStreetName'], Literal(row['addr:street'], datatype=XSD.string)))\n",
    "    g.add((Shop, OSMO['hasCivilNumber'], Literal(row['addr:housenumber'], datatype=XSD.string)))\n",
    "    g.add((Shop, OSMO['hasPostCode'], Literal(0 if row['addr:postcode'] is None else row['addr:postcode'], datatype=XSD.integer)))\n",
    "    g.add((Shop, OSMO['hasLatitude'], Literal(row['lat'], datatype=XSD.decimal)))\n",
    "    g.add((Shop, OSMO['hasLongitude'], Literal(row['lon'], datatype=XSD.decimal)))\n",
    "    g.add((Shop, OSMO['hasUse'], Literal(row['shop'], datatype=XSD.string)))\n",
    "    g.add((Shop, OSMO['website'], Literal(row['website'], datatype=XSD.string)))\n",
    "\n",
    "    try:\n",
    "        City = URIRef(OSMO[\"city\"+str(cities.index(row['addr:city']) + 1001)])\n",
    "        g.add((Shop, OSMO['isInCity'], City))\n",
    "        road = roads_grouped[roads_grouped['name'] == row['addr:street']].iloc[0]\n",
    "        Road = URIRef(OSMO[\"road\"+str(road.id)])\n",
    "        g.add((Shop, OSMO['isOnRoad'], Road))\n",
    "        g.add((Road, OSMO['isInCity'], City))\n",
    "    except:\n",
    "        pass"
   ]
  },
  {
   "cell_type": "code",
   "execution_count": 57,
   "id": "9e6da316",
   "metadata": {
    "pycharm": {
     "name": "#%%\n"
    }
   },
   "outputs": [
    {
     "name": "stdout",
     "output_type": "stream",
     "text": [
      "--- saving serialization ---\n",
      "CPU times: total: 891 ms\n",
      "Wall time: 889 ms\n"
     ]
    }
   ],
   "source": [
    "%%time\n",
    "# print all the data in the Turtle format\n",
    "print(\"--- saving serialization ---\")\n",
    "with open(savePath + 'shop.ttl', 'wb') as file:\n",
    "    file.write(g.serialize(format='turtle', encoding='utf-8'))"
   ]
  },
  {
   "cell_type": "markdown",
   "id": "db615a74",
   "metadata": {},
   "source": [
    "## SPARQL Queries\n"
   ]
  },
  {
   "cell_type": "code",
   "execution_count": 5,
   "id": "155914d6",
   "metadata": {
    "pycharm": {
     "name": "#%%\n"
    }
   },
   "outputs": [],
   "source": [
    "# Create the graph\n",
    "g = Graph()\n",
    "\n",
    "# Bind the namespaces to a prefix\n",
    "g.bind(\"xsd\", XSD)\n",
    "g.bind(\"osmo\", OSMO)"
   ]
  },
  {
   "cell_type": "code",
   "execution_count": 6,
   "id": "76cb291d",
   "metadata": {
    "pycharm": {
     "name": "#%%\n"
    }
   },
   "outputs": [
    {
     "name": "stdout",
     "output_type": "stream",
     "text": [
      "CPU times: total: 1min 13s\n",
      "Wall time: 1min 14s\n"
     ]
    },
    {
     "data": {
      "text/plain": [
       "<Graph identifier=N8163d30edb5943ee83e47ca27d5aff84 (<class 'rdflib.graph.Graph'>)>"
      ]
     },
     "execution_count": 6,
     "metadata": {},
     "output_type": "execute_result"
    }
   ],
   "source": [
    "%%time\n",
    "# Parse nodes\n",
    "g.parse(file=open(savePath + 'nodes.ttl'), format=\"ttl\")"
   ]
  },
  {
   "cell_type": "code",
   "execution_count": 7,
   "id": "04020f93",
   "metadata": {
    "pycharm": {
     "name": "#%%\n"
    }
   },
   "outputs": [
    {
     "name": "stdout",
     "output_type": "stream",
     "text": [
      "CPU times: total: 1min 9s\n",
      "Wall time: 1min 10s\n"
     ]
    },
    {
     "data": {
      "text/plain": [
       "<Graph identifier=N8163d30edb5943ee83e47ca27d5aff84 (<class 'rdflib.graph.Graph'>)>"
      ]
     },
     "execution_count": 7,
     "metadata": {},
     "output_type": "execute_result"
    }
   ],
   "source": [
    "%%time\n",
    "# Parse roads\n",
    "g.parse(file=open(savePath + 'roads.ttl'), format=\"ttl\")"
   ]
  },
  {
   "cell_type": "code",
   "execution_count": 8,
   "id": "f3bd9c15",
   "metadata": {
    "pycharm": {
     "name": "#%%\n"
    }
   },
   "outputs": [
    {
     "name": "stdout",
     "output_type": "stream",
     "text": [
      "CPU times: total: 0 ns\n",
      "Wall time: 10 ms\n"
     ]
    },
    {
     "data": {
      "text/plain": [
       "<Graph identifier=N8163d30edb5943ee83e47ca27d5aff84 (<class 'rdflib.graph.Graph'>)>"
      ]
     },
     "execution_count": 8,
     "metadata": {},
     "output_type": "execute_result"
    }
   ],
   "source": [
    "%%time\n",
    "# Parse cities\n",
    "g.parse(file=open(savePath + 'cities.ttl'), format=\"ttl\")"
   ]
  },
  {
   "cell_type": "code",
   "execution_count": 9,
   "id": "be1371b2",
   "metadata": {
    "pycharm": {
     "name": "#%%\n"
    }
   },
   "outputs": [
    {
     "name": "stdout",
     "output_type": "stream",
     "text": [
      "CPU times: total: 1.39 s\n",
      "Wall time: 1.39 s\n"
     ]
    },
    {
     "data": {
      "text/plain": [
       "<Graph identifier=N8163d30edb5943ee83e47ca27d5aff84 (<class 'rdflib.graph.Graph'>)>"
      ]
     },
     "execution_count": 9,
     "metadata": {},
     "output_type": "execute_result"
    }
   ],
   "source": [
    "%%time\n",
    "# Parse buildings\n",
    "g.parse(file=open(savePath + 'buildings.ttl'), format=\"ttl\")"
   ]
  },
  {
   "cell_type": "code",
   "execution_count": 10,
   "id": "a3931664",
   "metadata": {
    "pycharm": {
     "name": "#%%\n"
    }
   },
   "outputs": [
    {
     "name": "stdout",
     "output_type": "stream",
     "text": [
      "CPU times: total: 2.89 s\n",
      "Wall time: 2.9 s\n"
     ]
    },
    {
     "data": {
      "text/plain": [
       "<Graph identifier=N8163d30edb5943ee83e47ca27d5aff84 (<class 'rdflib.graph.Graph'>)>"
      ]
     },
     "execution_count": 10,
     "metadata": {},
     "output_type": "execute_result"
    }
   ],
   "source": [
    "%%time\n",
    "# Parse amenities\n",
    "g.parse(file=open(savePath + 'amenity.ttl'), format=\"ttl\")"
   ]
  },
  {
   "cell_type": "code",
   "execution_count": 11,
   "id": "928f6dee",
   "metadata": {
    "pycharm": {
     "name": "#%%\n"
    }
   },
   "outputs": [
    {
     "name": "stdout",
     "output_type": "stream",
     "text": [
      "CPU times: total: 1.48 s\n",
      "Wall time: 1.51 s\n"
     ]
    },
    {
     "data": {
      "text/plain": [
       "<Graph identifier=N8163d30edb5943ee83e47ca27d5aff84 (<class 'rdflib.graph.Graph'>)>"
      ]
     },
     "execution_count": 11,
     "metadata": {},
     "output_type": "execute_result"
    }
   ],
   "source": [
    "%%time\n",
    "# Parse shops\n",
    "g.parse(file=open(savePath + 'shop.ttl'), format=\"ttl\")"
   ]
  },
  {
   "cell_type": "code",
   "execution_count": 24,
   "id": "9ddbacb2",
   "metadata": {
    "pycharm": {
     "name": "#%%\n"
    }
   },
   "outputs": [
    {
     "name": "stderr",
     "output_type": "stream",
     "text": [
      "ic| row.asdict(): {'buildingId': rdflib.term.Literal('1016184728', datatype=rdflib.term.URIRef('http://www.w3.org/2001/XMLSchema#integer')),\n",
      "                   'buildingName': rdflib.term.Literal('Centro di Medicina Iperbarica ATIP', datatype=rdflib.term.URIRef('http://www.w3.org/2001/XMLSchema#string')),\n",
      "                   'roadName': rdflib.term.Literal('Via Alvise Cornaro', datatype=rdflib.term.URIRef('http://www.w3.org/2001/XMLSchema#string')),\n",
      "                   'streetName': rdflib.term.Literal('Via Alvise Cornaro', datatype=rdflib.term.URIRef('http://www.w3.org/2001/XMLSchema#string'))}\n",
      "ic| row.asdict(): {'buildingId': rdflib.term.Literal('131990393', datatype=rdflib.term.URIRef('http://www.w3.org/2001/XMLSchema#integer')),\n",
      "                   'buildingName': rdflib.term.Literal('Centro di Medicina Iperbarica ATIP', datatype=rdflib.term.URIRef('http://www.w3.org/2001/XMLSchema#string')),\n",
      "                   'roadName': rdflib.term.Literal('Via Alvise Cornaro', datatype=rdflib.term.URIRef('http://www.w3.org/2001/XMLSchema#string')),\n",
      "                   'streetName': rdflib.term.Literal('Via Alvise Cornaro', datatype=rdflib.term.URIRef('http://www.w3.org/2001/XMLSchema#string'))}\n",
      "ic| row.asdict(): {'buildingId': rdflib.term.Literal('131990873', datatype=rdflib.term.URIRef('http://www.w3.org/2001/XMLSchema#integer')),\n",
      "                   'buildingName': rdflib.term.Literal('Centro di Medicina Iperbarica ATIP - Poliambulatorio ATIP', datatype=rdflib.term.URIRef('http://www.w3.org/2001/XMLSchema#string')),\n",
      "                   'roadName': rdflib.term.Literal('Via Alvise Cornaro', datatype=rdflib.term.URIRef('http://www.w3.org/2001/XMLSchema#string')),\n",
      "                   'streetName': rdflib.term.Literal('Via Alvise Cornaro', datatype=rdflib.term.URIRef('http://www.w3.org/2001/XMLSchema#string'))}\n"
     ]
    }
   ],
   "source": [
    "from icecream import ic\n",
    "q = \"\"\"\n",
    "SELECT ?buildingId ?buildingName ?streetName ?roadName\n",
    "WHERE { \n",
    "  ?building osmo:hasName ?buildingName ;\n",
    "            osmo:hasId ?buildingId ;\n",
    "              osmo:hasHeight ?height ;\n",
    "              osmo:hasStreetName ?streetName ;\n",
    "              osmo:isOnRoad ?road .\n",
    "     ?road osmo:hasName \"Via Alvise Cornaro\"^^xsd:string.\n",
    "     ?road osmo:hasName  ?roadName\n",
    "} LIMIT 100\n",
    "\"\"\"\n",
    "\n",
    "for row in g.query(q):\n",
    "    ic(row.asdict())"
   ]
  },
  {
   "cell_type": "code",
   "execution_count": null,
   "id": "fe561133",
   "metadata": {
    "pycharm": {
     "name": "#%%\n"
    }
   },
   "outputs": [],
   "source": []
  }
 ],
 "metadata": {
  "interpreter": {
   "hash": "a90aeebcf29d64a654773811cc170cb25061cb2498f10ac689db374c7bf325de"
  },
  "kernelspec": {
   "display_name": "Python 3 (ipykernel)",
   "language": "python",
   "name": "python3"
  },
  "language_info": {
   "codemirror_mode": {
    "name": "ipython",
    "version": 3
   },
   "file_extension": ".py",
   "mimetype": "text/x-python",
   "name": "python",
   "nbconvert_exporter": "python",
   "pygments_lexer": "ipython3",
   "version": "3.9.13"
  }
 },
 "nbformat": 4,
 "nbformat_minor": 5
}